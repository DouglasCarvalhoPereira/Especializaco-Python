{
 "cells": [
  {
   "cell_type": "markdown",
   "id": "3612e379",
   "metadata": {},
   "source": [
    "# Ambientes Virtuais no Python\n",
    "\n",
    "### Essencialmente usamos o virtualenv, mas o anaconda tem um método próprio para isso\n",
    "\n",
    "### Objetivo: Ter outras versões do Python instalados no computador com 2 objetivos:\n",
    "    \n",
    "    1. Usar ferramentas que funcionam apenas com versões específicas do Python\n",
    "    2. Isolar de todo o resto tudo aquilo que é estritamente necessário para o programa rodar. Importante para sites e programas que vão ser distribuídos\n",
    "    \n",
    "### Observação Importante:\n",
    "\n",
    "Quando você cria um ambiente virtual, ele vem praticamente sem nada, então você precisa usar o pip ou o conda para instalar cada pacote que for usar\n",
    "\n",
    "\n",
    "### Comandos do Anaconda para Ambiente Virtual:\n",
    "\n",
    "Link com Detalhes: https://docs.conda.io/projects/conda/en/latest/user-guide/tasks/manage-environments.html"
   ]
  },
  {
   "cell_type": "markdown",
   "id": "466c86eb",
   "metadata": {},
   "source": [
    "### Comandos importantes do cmd:\n",
    "\n",
    "- Windows:"
   ]
  },
  {
   "cell_type": "markdown",
   "id": "22d3ae67",
   "metadata": {},
   "source": [
    "1. cd Pasta -> navega até aquela pasta\n",
    "2. cd .. -> volta para a pasta anterior\n",
    "3. dir -> lista os arquivos contidos na pasta"
   ]
  },
  {
   "cell_type": "markdown",
   "id": "e6bcb042",
   "metadata": {},
   "source": [
    "- Mac ou Linux"
   ]
  },
  {
   "cell_type": "markdown",
   "id": "62723974",
   "metadata": {},
   "source": [
    "1. cd Pasta -> navega até aquela pasta\n",
    "2. cd .. -> volta para a pasta anterior\n",
    "3. ls -> lista os arquivos contidos na pasta\n",
    "\n",
    "Obs: Caso o nome da pasta tenha espaço, talvez seja necessário substituir o espaço por \\, exemplo:\n",
    "cd Python Impressionador -> navega até a pasta \"Python Impressionador\"\n",
    "talvez seja necessário fazer:\n",
    "cd Python\\Impressionador"
   ]
  },
  {
   "cell_type": "markdown",
   "id": "dd8d84a2",
   "metadata": {},
   "source": [
    "#### Criar ambiente virtual:\n",
    "\n",
    "Criando ambiente com versão específicia do Python"
   ]
  },
  {
   "cell_type": "code",
   "execution_count": null,
   "id": "41894b8c",
   "metadata": {},
   "outputs": [],
   "source": [
    "conda create -n meuambientevirtual python=3.6"
   ]
  },
  {
   "cell_type": "markdown",
   "id": "d37335b7",
   "metadata": {},
   "source": [
    "#### Removendo ambientes virtuais"
   ]
  },
  {
   "cell_type": "code",
   "execution_count": null,
   "id": "7c880263",
   "metadata": {},
   "outputs": [],
   "source": [
    "conda remove --name meuambientevirtual --all"
   ]
  },
  {
   "cell_type": "markdown",
   "id": "2def27cb",
   "metadata": {},
   "source": [
    "#### Ativando ambientes virtuais"
   ]
  },
  {
   "cell_type": "code",
   "execution_count": null,
   "id": "957e5ce8",
   "metadata": {},
   "outputs": [],
   "source": [
    "conda activate meuambientevirtual"
   ]
  },
  {
   "cell_type": "markdown",
   "id": "ad646fda",
   "metadata": {},
   "source": [
    "#### Desativando Ambientes virtuais"
   ]
  },
  {
   "cell_type": "code",
   "execution_count": 3,
   "id": "0433b50d",
   "metadata": {},
   "outputs": [
    {
     "name": "stdout",
     "output_type": "stream",
     "text": [
      "\n",
      "Note: you may need to restart the kernel to use updated packages.\n"
     ]
    }
   ],
   "source": [
    "conda deactivate"
   ]
  }
 ],
 "metadata": {
  "kernelspec": {
   "display_name": "Python 3",
   "language": "python",
   "name": "python3"
  },
  "language_info": {
   "codemirror_mode": {
    "name": "ipython",
    "version": 3
   },
   "file_extension": ".py",
   "mimetype": "text/x-python",
   "name": "python",
   "nbconvert_exporter": "python",
   "pygments_lexer": "ipython3",
   "version": "3.8.8"
  }
 },
 "nbformat": 4,
 "nbformat_minor": 5
}

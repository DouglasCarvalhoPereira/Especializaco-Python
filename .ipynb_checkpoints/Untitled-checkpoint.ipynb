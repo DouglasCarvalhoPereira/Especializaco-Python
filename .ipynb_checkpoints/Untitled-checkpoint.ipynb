{
 "cells": [
  {
   "cell_type": "code",
   "execution_count": 22,
   "id": "12cc8a9a",
   "metadata": {},
   "outputs": [
    {
     "name": "stdout",
     "output_type": "stream",
     "text": [
      "Digite o nome do produto: Aviao\n",
      "Produto: Aviao | Quantidade: 1 \n"
     ]
    }
   ],
   "source": [
    "pesquisa = input(\"Digite o nome do produto: \")\n",
    "testes = ['Carro', 'Moto', 'Caminhao','Aviao', 'Barco', 'Helicoptero']\n",
    "quantidade = [19, 16, 98,1, 95, 0]\n",
    "\n",
    "if pesquisa in testes:\n",
    "    i = testes.index(pesquisa)\n",
    "    print(\"Produto: {} | Quantidade: {} \".format(pesquisa, quantidade[i]))\n",
    "else:\n",
    "    print(\"Esse produto não existe!\")\n",
    "\n"
   ]
  },
  {
   "cell_type": "markdown",
   "id": "a0b3dbed",
   "metadata": {},
   "source": [
    "Descobrindo o index em uma lista!"
   ]
  },
  {
   "cell_type": "code",
   "execution_count": null,
   "id": "e9f6ab64",
   "metadata": {},
   "outputs": [],
   "source": []
  }
 ],
 "metadata": {
  "kernelspec": {
   "display_name": "Python 3",
   "language": "python",
   "name": "python3"
  },
  "language_info": {
   "codemirror_mode": {
    "name": "ipython",
    "version": 3
   },
   "file_extension": ".py",
   "mimetype": "text/x-python",
   "name": "python",
   "nbconvert_exporter": "python",
   "pygments_lexer": "ipython3",
   "version": "3.8.8"
  }
 },
 "nbformat": 4,
 "nbformat_minor": 5
}

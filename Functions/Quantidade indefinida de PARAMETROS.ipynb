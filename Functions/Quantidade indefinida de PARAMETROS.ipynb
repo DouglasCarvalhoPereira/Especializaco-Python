{
 "cells": [
  {
   "cell_type": "markdown",
   "id": "6646e8f0",
   "metadata": {},
   "source": [
    "##ORDEM DOS PARAMETROS\n",
    "\n",
    "Sempre argumentos de posição \\**args sempre vem antes dos argumentos de palavra chave ***keyargs\n",
    "Argumentos individuais sempre vem antes dos multiplos\n",
    "\n",
    "def soma(num1, num2, *args, num3, **kwarsg):\n",
    "    ...\n",
    "    ...\n",
    "    ...\n",
    "    ...\n",
    "    return"
   ]
  },
  {
   "cell_type": "code",
   "execution_count": 2,
   "id": "305d5f08",
   "metadata": {},
   "outputs": [],
   "source": [
    "def soma(*args): #Parametro em formato de tupla\n",
    "    \"\"\"\n",
    "    É passo somente parametro de VALOR, usando a posição\n",
    "    \"\"\"\n",
    "    soma = 0\n",
    "    for num in args:\n",
    "        soma += num\n",
    "    return soma"
   ]
  },
  {
   "cell_type": "code",
   "execution_count": 5,
   "id": "51213ea4",
   "metadata": {},
   "outputs": [
    {
     "data": {
      "text/plain": [
       "98"
      ]
     },
     "execution_count": 5,
     "metadata": {},
     "output_type": "execute_result"
    }
   ],
   "source": [
    "soma(1,2,5,90)"
   ]
  },
  {
   "cell_type": "code",
   "execution_count": 14,
   "id": "2e7cbc71",
   "metadata": {},
   "outputs": [],
   "source": [
    "def preco_final(preco, **kwargs): #Parametro em formato de dicionario\n",
    "    \"\"\"\n",
    "    Parametro de PALAVRA CHAVE\n",
    "    Pode-se ter quantos argumentos de palavra chave quiser, desde que sejam passados KEYWORDS e VALORES.\n",
    "    \"\"\"\n",
    "    if 'desconto' in kwargs:\n",
    "        preco *= (1 - kwargs['desconto'])\n",
    "    if 'garantia' in kwargs:\n",
    "        preco += kwargs['garantia']\n",
    "    if 'imposto' in kwargs:\n",
    "        preco += kwargs['imposto']\n",
    "     \n",
    "    return preco"
   ]
  },
  {
   "cell_type": "code",
   "execution_count": 16,
   "id": "3ef060da",
   "metadata": {},
   "outputs": [
    {
     "name": "stdout",
     "output_type": "stream",
     "text": [
      "182.76\n"
     ]
    }
   ],
   "source": [
    "print(preco_final(90, desconto=0.1, garantia=100.78, imposto=0.98))"
   ]
  }
 ],
 "metadata": {
  "kernelspec": {
   "display_name": "Python 3",
   "language": "python",
   "name": "python3"
  },
  "language_info": {
   "codemirror_mode": {
    "name": "ipython",
    "version": 3
   },
   "file_extension": ".py",
   "mimetype": "text/x-python",
   "name": "python",
   "nbconvert_exporter": "python",
   "pygments_lexer": "ipython3",
   "version": "3.8.8"
  }
 },
 "nbformat": 4,
 "nbformat_minor": 5
}

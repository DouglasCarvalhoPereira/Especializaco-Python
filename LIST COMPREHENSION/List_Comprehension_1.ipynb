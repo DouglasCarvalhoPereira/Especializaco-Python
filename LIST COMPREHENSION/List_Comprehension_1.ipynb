{
 "cells": [
  {
   "cell_type": "markdown",
   "id": "bcac9e5f",
   "metadata": {},
   "source": [
    "## List Comprehension\n",
    "\n",
    "lista = [expressao for item in iterable]"
   ]
  },
  {
   "cell_type": "code",
   "execution_count": 4,
   "id": "8e073923",
   "metadata": {},
   "outputs": [
    {
     "name": "stdout",
     "output_type": "stream",
     "text": [
      "[12.89, 2.3800000000000003, 2.3000000000000003, 27.878, 1.29]\n"
     ]
    }
   ],
   "source": [
    "lista_precos = [128.90, 23.80, 23, 278.78, 12.90]\n",
    "desconto = [preco * 0.1 for preco in lista_precos]\n",
    "print(desconto)"
   ]
  },
  {
   "cell_type": "markdown",
   "id": "48df1172",
   "metadata": {},
   "source": [
    "## USANDO FUNÇÕES JUNTO COM LIST COMPREHENSION"
   ]
  },
  {
   "cell_type": "code",
   "execution_count": 10,
   "id": "d105947e",
   "metadata": {},
   "outputs": [
    {
     "name": "stdout",
     "output_type": "stream",
     "text": [
      "[12.89, 2.3800000000000003, 2.3000000000000003, 27.878, 1.29]\n"
     ]
    }
   ],
   "source": [
    "def soma_imposto(preco, desconto):\n",
    "    return preco * desconto\n",
    "\n",
    "valor = [soma_imposto(preco, 0.1) for preco in lista_precos]\n",
    "print(valor)"
   ]
  },
  {
   "cell_type": "markdown",
   "id": "c154f9d5",
   "metadata": {},
   "source": [
    "# Conectando duas listas com LIS COMPREHENSION"
   ]
  },
  {
   "cell_type": "code",
   "execution_count": 31,
   "id": "5c07ca18",
   "metadata": {},
   "outputs": [
    {
     "name": "stdout",
     "output_type": "stream",
     "text": [
      "['microondas', 'iphone', 'vinho', 'cafeteira']\n",
      "[2100, 1950, 1500, 150]\n"
     ]
    }
   ],
   "source": [
    "vendas_produtos = [1500, 150, 2100, 1950]\n",
    "produtos = ['vinho','cafeteira','microondas','iphone']\n",
    "\n",
    "lista_aux = list(zip(vendas_produtos, produtos))\n",
    "lista_aux.sort(reverse=True)\n",
    "produtos = [produtos for vendas, produtos in lista_aux]\n",
    "vendas = [vendas for vendas, produtos in lista_aux]\n",
    "\n",
    "print(produtos)\n",
    "print(vendas)"
   ]
  }
 ],
 "metadata": {
  "kernelspec": {
   "display_name": "Python 3",
   "language": "python",
   "name": "python3"
  },
  "language_info": {
   "codemirror_mode": {
    "name": "ipython",
    "version": 3
   },
   "file_extension": ".py",
   "mimetype": "text/x-python",
   "name": "python",
   "nbconvert_exporter": "python",
   "pygments_lexer": "ipython3",
   "version": "3.8.8"
  }
 },
 "nbformat": 4,
 "nbformat_minor": 5
}

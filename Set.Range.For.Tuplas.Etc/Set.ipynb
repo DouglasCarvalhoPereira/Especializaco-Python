{
 "cells": [
  {
   "cell_type": "markdown",
   "id": "dbca37bc",
   "metadata": {},
   "source": [
    "set tem como objetivo manter apenas valores únicos em determinada lista.\n",
    "\n",
    "produtos = {'arroz', 'feijao', 'macarrao', 'atum', 'azeite'}\n",
    "\n",
    "Semelhante a um dicionário um \"set\" é criado usando chaves, mas vale lembrar que não podem ser inciados com zero itens isso fará dele um dicionário."
   ]
  },
  {
   "cell_type": "code",
   "execution_count": 7,
   "id": "3cd6fed6",
   "metadata": {},
   "outputs": [
    {
     "name": "stdout",
     "output_type": "stream",
     "text": [
      "14\n",
      "11\n"
     ]
    }
   ],
   "source": [
    "cpf_clientes = ['762.196.080-97', '263.027.380-67', '827.363.930-40', '925.413.640-91', '870.565.160-33', '892.080.930-50', '462.126.030-81', '393.462.330-10', '393.462.330-10', '393.462.330-10', '988.305.810-11', '596.125.830-05', '596.125.830-05', '990.236.770-48']\n",
    "funcionarios = ['Maria', 'José', 'Antônio', 'João', 'Francisco', 'Ana', 'Luiz', 'Paulo', 'Carlos', 'Manoel', 'Pedro', 'Francisca', 'Marcos', 'Raimundo', 'Sebastião', 'Antônia', 'Marcelo', 'Jorge', 'Márcia', 'Geraldo']\n",
    "print(len(cpf_clientes))\n",
    "setado = set(cpf_clientes) #Os CPF'S São únicos\n",
    "print(len(setado))"
   ]
  }
 ],
 "metadata": {
  "kernelspec": {
   "display_name": "Python 3",
   "language": "python",
   "name": "python3"
  },
  "language_info": {
   "codemirror_mode": {
    "name": "ipython",
    "version": 3
   },
   "file_extension": ".py",
   "mimetype": "text/x-python",
   "name": "python",
   "nbconvert_exporter": "python",
   "pygments_lexer": "ipython3",
   "version": "3.8.8"
  }
 },
 "nbformat": 4,
 "nbformat_minor": 5
}

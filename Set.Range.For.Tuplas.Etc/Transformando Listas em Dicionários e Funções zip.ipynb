{
 "cells": [
  {
   "cell_type": "markdown",
   "id": "69918a27",
   "metadata": {},
   "source": [
    "Tranformando Listas em Dicionários\n"
   ]
  },
  {
   "cell_type": "code",
   "execution_count": null,
   "id": "16ffd07b",
   "metadata": {},
   "outputs": [],
   "source": [
    "produtos = ['iphone', 'samsung galaxy', 'tv samsung', 'ps5', 'tablet', 'ipad', 'tv philco', 'notebook hp', 'notebook dell', 'notebook asus']\n",
    "vendas = [15000, 12000, 10000, 14300, 1720, 1000, 2500, 1000, 17000, 2450]\n",
    "\n",
    "dicionarioValorPadrao = dict.fromkeys(produtos, 0) #MODELO 1\n",
    "\n",
    "listaTuplas = dict(zip(produtos, vendas)) #MODELO 2\n",
    "\n",
    "print(listaTuplas)\n",
    "print(listaTuplas['ipad'])\n",
    "print(listaTuplas['iphone'])"
   ]
  }
 ],
 "metadata": {
  "kernelspec": {
   "display_name": "Python 3",
   "language": "python",
   "name": "python3"
  },
  "language_info": {
   "codemirror_mode": {
    "name": "ipython",
    "version": 3
   },
   "file_extension": ".py",
   "mimetype": "text/x-python",
   "name": "python",
   "nbconvert_exporter": "python",
   "pygments_lexer": "ipython3",
   "version": "3.8.8"
  }
 },
 "nbformat": 4,
 "nbformat_minor": 5
}

{
 "cells": [
  {
   "cell_type": "markdown",
   "id": "c329ed42",
   "metadata": {},
   "source": [
    "Tuplas são imutaveis, mas muito úteis."
   ]
  },
  {
   "cell_type": "code",
   "execution_count": 13,
   "id": "e07bf24a",
   "metadata": {},
   "outputs": [
    {
     "name": "stdout",
     "output_type": "stream",
     "text": [
      "[('20/08/2020', 'iphone x', 'azul', '128gb', 350, 4000), ('20/08/2020', 'iphone x', 'prata', '128gb', 1500, 4000), ('20/08/2020', 'ipad', 'prata', '256gb', 127, 6000), ('20/08/2020', 'ipad', 'prata', '128gb', 981, 5000), ('21/08/2020', 'iphone x', 'azul', '128gb', 397, 4000), ('21/08/2020', 'iphone x', 'prata', '128gb', 1017, 4000), ('21/08/2020', 'ipad', 'prata', '256gb', 50, 6000), ('21/08/2020', 'ipad', 'prata', '128gb', 4000, 5000)]\n",
      "==-==-==-==-==-==-==-==-==-==-==-==-==-==-==-==-==-==-==-==-==-==-==-==-==-==-==-==-==-==-==-==-==-==-==-==-==-==-==-==-\n",
      "('20/08/2020', 'iphone x', 'azul', '128gb', 350, 4000)\n",
      "('20/08/2020', 'iphone x', 'prata', '128gb', 1500, 4000)\n",
      "('20/08/2020', 'ipad', 'prata', '256gb', 127, 6000)\n",
      "('20/08/2020', 'ipad', 'prata', '128gb', 981, 5000)\n",
      "('21/08/2020', 'iphone x', 'azul', '128gb', 397, 4000)\n"
     ]
    }
   ],
   "source": [
    "vendas = [\n",
    "    ('20/08/2020', 'iphone x', 'azul', '128gb', 350, 4000),\n",
    "    ('20/08/2020', 'iphone x', 'prata', '128gb', 1500, 4000),\n",
    "    ('20/08/2020', 'ipad', 'prata', '256gb', 127, 6000),\n",
    "    ('20/08/2020', 'ipad', 'prata', '128gb', 981, 5000),\n",
    "    ('21/08/2020', 'iphone x', 'azul', '128gb', 397, 4000),\n",
    "    ('21/08/2020', 'iphone x', 'prata', '128gb', 1017, 4000),\n",
    "    ('21/08/2020', 'ipad', 'prata', '256gb', 50, 6000),\n",
    "    ('21/08/2020', 'ipad', 'prata', '128gb', 4000, 5000),\n",
    "]\n",
    "\n",
    "produto1, produto2, produto3, produto4, produto5, produto6, produto7, produto8 = vendas #Acessando cada tupla dentro da lista\n",
    "\n",
    "print(vendas)\n",
    "\n",
    "print('==-'*40)\n",
    "data, produto, cor, memoria, quantidade, valor_unitario = vendas[0] #Acessando dentro de cada tupla\n",
    "\n",
    "print(vendas[0])\n",
    "print(vendas[1])\n",
    "print(vendas[2])\n",
    "print(vendas[3])\n",
    "print(vendas[4])"
   ]
  },
  {
   "cell_type": "code",
   "execution_count": 19,
   "id": "9b561af8",
   "metadata": {},
   "outputs": [
    {
     "name": "stdout",
     "output_type": "stream",
     "text": [
      "20/08/2020\n",
      "20/08/2020\n",
      "20/08/2020\n",
      "20/08/2020\n",
      "21/08/2020\n",
      "21/08/2020\n",
      "21/08/2020\n",
      "21/08/2020\n"
     ]
    }
   ],
   "source": [
    "vendasLista = [\n",
    "    ['20/08/2020', 'iphone x', 'azul', '128gb', 350, 4000],\n",
    "    ['20/08/2020', 'iphone x', 'prata', '128gb', 1500, 4000],\n",
    "    ['20/08/2020', 'ipad', 'prata', '256gb', 127, 6000],\n",
    "    ['20/08/2020', 'ipad', 'prata', '128gb', 981, 5000],\n",
    "    ['21/08/2020', 'iphone x', 'azul', '128gb', 397, 4000],\n",
    "    ['21/08/2020', 'iphone x', 'prata', '128gb', 1017, 4000],\n",
    "    ['21/08/2020', 'ipad', 'prata', '256gb', 50, 6000],\n",
    "    ['21/08/2020', 'ipad', 'prata', '128gb', 4000, 500],\n",
    "]\n",
    "\n",
    "for data, produto, cor, memoria, quantidade, valor_unitario in vendasLista: #Acessando dentro de cada tupla\n",
    "    print(data)\n"
   ]
  },
  {
   "cell_type": "code",
   "execution_count": null,
   "id": "af35ad74",
   "metadata": {},
   "outputs": [],
   "source": []
  }
 ],
 "metadata": {
  "kernelspec": {
   "display_name": "Python 3",
   "language": "python",
   "name": "python3"
  },
  "language_info": {
   "codemirror_mode": {
    "name": "ipython",
    "version": 3
   },
   "file_extension": ".py",
   "mimetype": "text/x-python",
   "name": "python",
   "nbconvert_exporter": "python",
   "pygments_lexer": "ipython3",
   "version": "3.8.8"
  }
 },
 "nbformat": 4,
 "nbformat_minor": 5
}

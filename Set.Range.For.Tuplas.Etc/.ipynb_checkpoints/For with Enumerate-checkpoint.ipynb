{
 "cells": [
  {
   "cell_type": "markdown",
   "id": "7a61a682",
   "metadata": {},
   "source": [
    "    Aplicando For and If\n",
    "   "
   ]
  },
  {
   "cell_type": "code",
   "execution_count": 25,
   "id": "cd96b2bb",
   "metadata": {},
   "outputs": [
    {
     "name": "stdout",
     "output_type": "stream",
     "text": [
      "0  -  1234\n",
      "4  -  6789\n",
      "7  -  2223\n",
      "8  -  5567\n",
      "11  -  44324\n",
      "12  -  8897\n",
      "13  -  43457\n",
      "14  -  2456\n",
      "8 bateram a meta!\n"
     ]
    }
   ],
   "source": [
    "vendas = [1234, 567, 89, 742, 6789, 578, 43, 2223, 5567, 4, 68, 44324, 8897, 43457, 2456]\n",
    "metas = 1000\n",
    "cont = 0\n",
    "for i, venda in enumerate(vendas):\n",
    "    if venda >= metas:\n",
    "        cont += 1\n",
    "        print(i,' - ',venda)\n",
    "\n",
    "print(f\"{cont} bateram a meta!\")  "
   ]
  },
  {
   "cell_type": "code",
   "execution_count": 32,
   "id": "8de547f7",
   "metadata": {},
   "outputs": [
    {
     "name": "stdout",
     "output_type": "stream",
     "text": [
      "O 6° item, macarrao está com estoque baixo.\n",
      "O 9° item, sardinha está com estoque baixo.\n"
     ]
    }
   ],
   "source": [
    "quantidade = [1234, 567, 89, 742, 6789, 578, 43, 2223, 5567, 4, 68, 44324, 8897, 43457, 2456]\n",
    "produtos = ['bala', 'limao', 'maça','batata','arroz','pao','macarrao','feijao','sopa','sardinha','salada','suco','refrigerante']\n",
    "min = 50\n",
    "            \n",
    "for i, item in enumerate(quantidade):\n",
    "        if item < min:\n",
    "            print(f\"O {i}° item, {produtos[i]} está com estoque baixo.\")\n",
    "            "
   ]
  }
 ],
 "metadata": {
  "kernelspec": {
   "display_name": "Python 3",
   "language": "python",
   "name": "python3"
  },
  "language_info": {
   "codemirror_mode": {
    "name": "ipython",
    "version": 3
   },
   "file_extension": ".py",
   "mimetype": "text/x-python",
   "name": "python",
   "nbconvert_exporter": "python",
   "pygments_lexer": "ipython3",
   "version": "3.8.8"
  }
 },
 "nbformat": 4,
 "nbformat_minor": 5
}

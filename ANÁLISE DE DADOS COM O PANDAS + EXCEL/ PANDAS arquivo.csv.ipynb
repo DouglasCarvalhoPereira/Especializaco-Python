{
 "cells": [
  {
   "cell_type": "markdown",
   "id": "b9035a57",
   "metadata": {},
   "source": [
    "# Lendo arquivos csv(planilhas) com PANDAS"
   ]
  },
  {
   "cell_type": "code",
   "execution_count": 46,
   "id": "6224d433",
   "metadata": {},
   "outputs": [],
   "source": [
    "import pandas as pd\n",
    "\n",
    "telefones = pd.read_csv('niver.csv')"
   ]
  },
  {
   "cell_type": "code",
   "execution_count": 71,
   "id": "43f94817",
   "metadata": {},
   "outputs": [
    {
     "data": {
      "text/html": [
       "<div>\n",
       "<style scoped>\n",
       "    .dataframe tbody tr th:only-of-type {\n",
       "        vertical-align: middle;\n",
       "    }\n",
       "\n",
       "    .dataframe tbody tr th {\n",
       "        vertical-align: top;\n",
       "    }\n",
       "\n",
       "    .dataframe thead th {\n",
       "        text-align: right;\n",
       "    }\n",
       "</style>\n",
       "<table border=\"1\" class=\"dataframe\">\n",
       "  <thead>\n",
       "    <tr style=\"text-align: right;\">\n",
       "      <th></th>\n",
       "      <th>Nome</th>\n",
       "      <th>Telefone</th>\n",
       "    </tr>\n",
       "  </thead>\n",
       "  <tbody>\n",
       "    <tr>\n",
       "      <th>0</th>\n",
       "      <td>Wagner</td>\n",
       "      <td>(24) 999276103</td>\n",
       "    </tr>\n",
       "    <tr>\n",
       "      <th>1</th>\n",
       "      <td>Roberto</td>\n",
       "      <td>(24) 999081398</td>\n",
       "    </tr>\n",
       "    <tr>\n",
       "      <th>2</th>\n",
       "      <td>Fernando</td>\n",
       "      <td>(24) 974035202</td>\n",
       "    </tr>\n",
       "    <tr>\n",
       "      <th>3</th>\n",
       "      <td>Igor</td>\n",
       "      <td>(24) 998808610</td>\n",
       "    </tr>\n",
       "    <tr>\n",
       "      <th>4</th>\n",
       "      <td>Celso</td>\n",
       "      <td>(24) 998614104</td>\n",
       "    </tr>\n",
       "    <tr>\n",
       "      <th>5</th>\n",
       "      <td>Marcelo</td>\n",
       "      <td>(24) 998236363</td>\n",
       "    </tr>\n",
       "    <tr>\n",
       "      <th>6</th>\n",
       "      <td>Leandro</td>\n",
       "      <td>(24) 992785520</td>\n",
       "    </tr>\n",
       "    <tr>\n",
       "      <th>7</th>\n",
       "      <td>Rodolfo</td>\n",
       "      <td>(24) 988366750</td>\n",
       "    </tr>\n",
       "    <tr>\n",
       "      <th>8</th>\n",
       "      <td>Victor Hugo</td>\n",
       "      <td>(24) 999944318</td>\n",
       "    </tr>\n",
       "  </tbody>\n",
       "</table>\n",
       "</div>"
      ],
      "text/plain": [
       "          Nome         Telefone\n",
       "0       Wagner   (24) 999276103\n",
       "1      Roberto   (24) 999081398\n",
       "2     Fernando   (24) 974035202\n",
       "3         Igor   (24) 998808610\n",
       "4        Celso   (24) 998614104\n",
       "5      Marcelo   (24) 998236363\n",
       "6      Leandro   (24) 992785520\n",
       "7      Rodolfo   (24) 988366750\n",
       "8  Victor Hugo   (24) 999944318"
      ]
     },
     "execution_count": 71,
     "metadata": {},
     "output_type": "execute_result"
    }
   ],
   "source": [
    "telefones[['Nome',' Telefone']]"
   ]
  },
  {
   "cell_type": "code",
   "execution_count": 73,
   "id": "f33fed74",
   "metadata": {},
   "outputs": [
    {
     "data": {
      "text/html": [
       "<div>\n",
       "<style scoped>\n",
       "    .dataframe tbody tr th:only-of-type {\n",
       "        vertical-align: middle;\n",
       "    }\n",
       "\n",
       "    .dataframe tbody tr th {\n",
       "        vertical-align: top;\n",
       "    }\n",
       "\n",
       "    .dataframe thead th {\n",
       "        text-align: right;\n",
       "    }\n",
       "</style>\n",
       "<table border=\"1\" class=\"dataframe\">\n",
       "  <thead>\n",
       "    <tr style=\"text-align: right;\">\n",
       "      <th></th>\n",
       "      <th>Nome</th>\n",
       "      <th>Email</th>\n",
       "    </tr>\n",
       "  </thead>\n",
       "  <tbody>\n",
       "    <tr>\n",
       "      <th>0</th>\n",
       "      <td>Wagner</td>\n",
       "      <td>wagnercastroaquino122@gmail.com</td>\n",
       "    </tr>\n",
       "    <tr>\n",
       "      <th>1</th>\n",
       "      <td>Roberto</td>\n",
       "      <td>tioroberto-biblia-popup@outlook.com</td>\n",
       "    </tr>\n",
       "    <tr>\n",
       "      <th>2</th>\n",
       "      <td>Fernando</td>\n",
       "      <td>ferjajrmf@gmail.com</td>\n",
       "    </tr>\n",
       "    <tr>\n",
       "      <th>3</th>\n",
       "      <td>Igor</td>\n",
       "      <td>igorf_cortez@hotmail.com</td>\n",
       "    </tr>\n",
       "    <tr>\n",
       "      <th>4</th>\n",
       "      <td>Celso</td>\n",
       "      <td>brasausa@hotmail.com</td>\n",
       "    </tr>\n",
       "    <tr>\n",
       "      <th>5</th>\n",
       "      <td>Marcelo</td>\n",
       "      <td>marcelo.bcosta@hotmail.com</td>\n",
       "    </tr>\n",
       "    <tr>\n",
       "      <th>6</th>\n",
       "      <td>Leandro</td>\n",
       "      <td>volgera@gmail.com</td>\n",
       "    </tr>\n",
       "    <tr>\n",
       "      <th>7</th>\n",
       "      <td>Rodolfo</td>\n",
       "      <td>pombo.rodolfo@gmail.com</td>\n",
       "    </tr>\n",
       "    <tr>\n",
       "      <th>8</th>\n",
       "      <td>Victor Hugo</td>\n",
       "      <td>victorfigueiredo.brito@gmail.com</td>\n",
       "    </tr>\n",
       "  </tbody>\n",
       "</table>\n",
       "</div>"
      ],
      "text/plain": [
       "          Nome                                 Email\n",
       "0       Wagner       wagnercastroaquino122@gmail.com\n",
       "1      Roberto   tioroberto-biblia-popup@outlook.com\n",
       "2     Fernando                   ferjajrmf@gmail.com\n",
       "3         Igor              igorf_cortez@hotmail.com\n",
       "4        Celso                  brasausa@hotmail.com\n",
       "5      Marcelo            marcelo.bcosta@hotmail.com\n",
       "6      Leandro                     volgera@gmail.com\n",
       "7      Rodolfo               pombo.rodolfo@gmail.com\n",
       "8  Victor Hugo      victorfigueiredo.brito@gmail.com"
      ]
     },
     "execution_count": 73,
     "metadata": {},
     "output_type": "execute_result"
    }
   ],
   "source": [
    "telefones[['Nome',' Email']]"
   ]
  },
  {
   "cell_type": "code",
   "execution_count": 84,
   "id": "4e36b844",
   "metadata": {},
   "outputs": [
    {
     "data": {
      "text/plain": [
       "0     (24) 999276103\n",
       "1     (24) 999081398\n",
       "2     (24) 974035202\n",
       "3     (24) 998808610\n",
       "4     (24) 998614104\n",
       "5     (24) 998236363\n",
       "Name:  Telefone, dtype: object"
      ]
     },
     "execution_count": 84,
     "metadata": {},
     "output_type": "execute_result"
    }
   ],
   "source": [
    "telefones[' Telefone'][:6]"
   ]
  },
  {
   "cell_type": "code",
   "execution_count": 83,
   "id": "b1ecf211",
   "metadata": {},
   "outputs": [
    {
     "name": "stdout",
     "output_type": "stream",
     "text": [
      "<class 'pandas.core.frame.DataFrame'>\n",
      "RangeIndex: 9 entries, 0 to 8\n",
      "Data columns (total 3 columns):\n",
      " #   Column     Non-Null Count  Dtype \n",
      "---  ------     --------------  ----- \n",
      " 0   Nome       9 non-null      object\n",
      " 1    Email     9 non-null      object\n",
      " 2    Telefone  9 non-null      object\n",
      "dtypes: object(3)\n",
      "memory usage: 344.0+ bytes\n"
     ]
    }
   ],
   "source": [
    "telefones.info()"
   ]
  },
  {
   "cell_type": "code",
   "execution_count": null,
   "id": "9e1c0e1c",
   "metadata": {},
   "outputs": [],
   "source": []
  }
 ],
 "metadata": {
  "kernelspec": {
   "display_name": "Python 3",
   "language": "python",
   "name": "python3"
  },
  "language_info": {
   "codemirror_mode": {
    "name": "ipython",
    "version": 3
   },
   "file_extension": ".py",
   "mimetype": "text/x-python",
   "name": "python",
   "nbconvert_exporter": "python",
   "pygments_lexer": "ipython3",
   "version": "3.8.8"
  }
 },
 "nbformat": 4,
 "nbformat_minor": 5
}

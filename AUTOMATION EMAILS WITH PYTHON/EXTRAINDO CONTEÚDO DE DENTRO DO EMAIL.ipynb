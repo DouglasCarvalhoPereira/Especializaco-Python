{
 "cells": [
  {
   "cell_type": "markdown",
   "id": "280475d7",
   "metadata": {},
   "source": [
    "# BUSCANDO INFORMAÇÕES DENTRO DO EMAIL\n",
    "- Biblioteca https://pypi.org/project/imap-tools/\n",
    "\n",
    "- A utilidade maior seria a busca por qualquer informação ou conteúdo dentro da sua caixa de entrada.\n",
    "\n",
    "### Exemplos\n",
    "\n",
    "1. Ser avisado quando determinado rementente enviar um email\n",
    "2. Baixar automáticamente quando um arquivo chegar\n",
    "3. Entre outros"
   ]
  },
  {
   "cell_type": "code",
   "execution_count": 17,
   "id": "03ec149c",
   "metadata": {},
   "outputs": [],
   "source": [
    "from imap_tools import MailBox, AND\n",
    "\n",
    "usuario = 'douglasmarketingbr@gmail.com'\n",
    "senha = 'Bilhao50'\n",
    "\n",
    "#Imap do gmail ou qualquer outro email\n",
    "meu_email = MailBox(\"imap.gmail.com\").login(usuario, senha)"
   ]
  },
  {
   "cell_type": "code",
   "execution_count": 23,
   "id": "2624ca64",
   "metadata": {},
   "outputs": [
    {
     "name": "stdout",
     "output_type": "stream",
     "text": [
      "Re: Email de troca\n",
      "Certo\n",
      "\n",
      "Em sáb, 28 de ago de 2021 12:26, Douglas Carvalho <\n",
      "douglasmarketingbr@gmail.com> escreveu:\n",
      "\n",
      "> Email de validade\n",
      ">\n",
      "\n",
      "Fwd: Relatório financeiro\n",
      "Email com anexo para teste...\n",
      "\n",
      "---------- Forwarded message ---------\n",
      "From: douglasmarketingbr@gmail.com <douglasmarketingbr@gmail.com>\n",
      "Date: Fri, Nov 12, 2021 at 10:28 PM\n",
      "Subject: Relatório financeiro\n",
      "To: <carvalhodouglaspereira@gmail.com>, <douglascarvalhonovo@gmail.com>\n",
      "\n",
      "\n",
      "\n",
      "Fala Douglas, boa tarde!\n",
      "\n",
      "Esse email é um teste de formatação das frases no corpo do email.\n",
      "Sendo assim, aguardo seu retorno sobre a maneira que o texto chegou na sua\n",
      "caixa de entrada.\n",
      "\n",
      "Att.\n",
      "Douglas\n",
      "\n"
     ]
    }
   ],
   "source": [
    "# pegar email que foram enviados por um remetente específico\n",
    "# Filtro .fetch()\n",
    "#Enviado por from_()\n",
    "#Enviado para to()\n",
    "lista_emails = meu_email.fetch(AND(from_=\"carvalhodouglaspereira@gmail.com\"))\n",
    "#quantidade_de_emails_na_caixa_de_entrada = len(list(lista_emails))\n",
    "\n",
    "#Só é possível visualizar o email se a variável quantidade_de... estiver comentada.\n",
    "#PERCORRENDO TODOS EMAILS\n",
    "for email in lista_emails:\n",
    "    #VERIFICANDO SE EXISTEM ARQUIVOS NOS EMAILS\n",
    "    if len(email.attachments) > 0:\n",
    "        #PERCORRENDO CADA ARQUIVO(ANEXO)\n",
    "        for anexo in email.attachments:\n",
    "            #BUSCANDO PELO NOME DO ARQUIVO\n",
    "            if 'CadastroClientes-Copy1' in anexo.filename:\n",
    "                #TRANSFORMANDO O ARQUIVO EM BYTES\n",
    "                info_anexo = anexo.payload\n",
    "                #RECRIANDO O ARQUIVO 'wb' <- formato de bytes\n",
    "                with open('Relatório financeiro.csv', 'wb') as file:\n",
    "                    #Escrevendo os bytes convertidos no arquivo excel\n",
    "                    file.write(info_anexo)\n",
    "                \n",
    "    print(email.subject)\n",
    "    print(email.text)\n",
    "#print('Forma encontrados na caixa de entrada: {} email(s).'.format(quantidade_de_emails_na_caixa_de_entrada))"
   ]
  },
  {
   "cell_type": "code",
   "execution_count": null,
   "id": "9b0eb465",
   "metadata": {},
   "outputs": [],
   "source": []
  }
 ],
 "metadata": {
  "kernelspec": {
   "display_name": "Python 3",
   "language": "python",
   "name": "python3"
  },
  "language_info": {
   "codemirror_mode": {
    "name": "ipython",
    "version": 3
   },
   "file_extension": ".py",
   "mimetype": "text/x-python",
   "name": "python",
   "nbconvert_exporter": "python",
   "pygments_lexer": "ipython3",
   "version": "3.8.8"
  }
 },
 "nbformat": 4,
 "nbformat_minor": 5
}

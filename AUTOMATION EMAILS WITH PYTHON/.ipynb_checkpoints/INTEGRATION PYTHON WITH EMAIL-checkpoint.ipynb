{
 "cells": [
  {
   "cell_type": "markdown",
   "id": "c2cc9eb8",
   "metadata": {},
   "source": [
    "# 2 Formas de interagir com emails\n",
    "\n",
    "1. GMAIL\n",
    "2. OUTLOOK"
   ]
  },
  {
   "cell_type": "markdown",
   "id": "e0117814",
   "metadata": {},
   "source": [
    "### Método GMAIL\n",
    "\n",
    "- Liberar email acesso no email para esse tipo de atividade ou criar um novo email.\n",
    "https://myaccount.google.com/lesssecureapps this case use a count the douglasmarketingbr@gmail.com\n",
    "\n",
    "- Usaremos a bibliotecas **yagmail**\n",
    "- É necessário intalação\n"
   ]
  },
  {
   "cell_type": "markdown",
   "id": "11a74f96",
   "metadata": {},
   "source": [
    "## Enviando email somente com texto"
   ]
  },
  {
   "cell_type": "code",
   "execution_count": 14,
   "id": "b89731f6",
   "metadata": {},
   "outputs": [],
   "source": [
    "import yagmail\n",
    "#ACESSO A CONTA\n",
    "usuario = yagmail.SMTP(user='douglasmarketingbr@gmail.com', password='Bilhao50')\n",
    "#ENVIAR EMAIL\n",
    "#texto = 'Olá Douglas, esses email é para certificar o envio de email via Python. \\n\\n\\n\\n\\n\\Att.'\n",
    "#usuario.send(to='carvalhodouglaspereira@gmail.com', subject='Send by Python', contents=texto)"
   ]
  },
  {
   "cell_type": "markdown",
   "id": "4e539143",
   "metadata": {},
   "source": [
    "## Enviando email com arquivos"
   ]
  },
  {
   "cell_type": "code",
   "execution_count": 18,
   "id": "c2862a15",
   "metadata": {},
   "outputs": [
    {
     "data": {
      "text/plain": [
       "{}"
      ]
     },
     "execution_count": 18,
     "metadata": {},
     "output_type": "execute_result"
    }
   ],
   "source": [
    "conteudo_mail = 'Boa noite Douglas! \\n\\nSegue em anexo o relatório financeiro semanal\\n\\n\\nAtt.'\n",
    "arquivo = 'CadastroClientes-Copy1.csv'\n",
    "usuario.send(to='carvalhodouglaspereira@gmail.com', subject='Relatório financeiro', contents=conteudo_mail, \\\n",
    "             attachments=arquivo)"
   ]
  },
  {
   "cell_type": "markdown",
   "id": "159e643b",
   "metadata": {},
   "source": [
    "## Enviando para mais de um contato"
   ]
  },
  {
   "cell_type": "code",
   "execution_count": null,
   "id": "7fb09a71",
   "metadata": {},
   "outputs": [],
   "source": [
    "#Enviar para mais de um destinatário use uma lista\n",
    "#Para enviar para com cópia use cc='...'\n",
    "#Cópia oculta bcc='...'\n",
    "lista_emails = ['carvalhodouglaspereira@gmail.com','douglascarvalhonovo@gmail.com']\n",
    "usuario.send(to=lista_emails, subject='Relatório financeiro', contents=conteudo_mail, attachments=arquivo)"
   ]
  },
  {
   "cell_type": "markdown",
   "id": "7f840483",
   "metadata": {},
   "source": [
    "## Personalizção do Texto (Corpo Email)"
   ]
  },
  {
   "cell_type": "code",
   "execution_count": 22,
   "id": "a76875c3",
   "metadata": {},
   "outputs": [
    {
     "data": {
      "text/plain": [
       "{}"
      ]
     },
     "execution_count": 22,
     "metadata": {},
     "output_type": "execute_result"
    }
   ],
   "source": [
    "#Primeira forma - > Lista de frases\n",
    "corpo_email = [\n",
    "    'Olá, bom dia Douglas!',\n",
    "    'Estou enviando esse email para testar o envio de emails usando python.',\n",
    "    'Nesse momento estou fazendo teste de formatação de testo no corpo do email.'\n",
    "]\n",
    "corpo_email = '\\n'.join(corpo_email)\n",
    "\n",
    "#Segunda forma: - > FORMATANDO COM NOME E UMA VARIÁVEL DE NOMES\n",
    "#Com HTML também é possível personalizar\n",
    "nome = 'Douglas'\n",
    "corpo_do_email2 = \"\"\"\n",
    "<h1>Fala {}, boa tarde!</h1>\n",
    "\n",
    "Esse email é um teste de formatação das frases no corpo do email.\n",
    "Sendo assim, aguardo seu retorno sobre a maneira que o texto chegou na sua caixa de entrada.\n",
    "\n",
    "Att.\n",
    "Douglas\n",
    "\"\"\".format(nome)\n",
    "\n",
    "\n",
    "lista_emails = ['carvalhodouglaspereira@gmail.com','douglascarvalhonovo@gmail.com']\n",
    "usuario.send(to=lista_emails, subject='Relatório financeiro', contents=corpo_do_email2, attachments=arquivo)"
   ]
  }
 ],
 "metadata": {
  "kernelspec": {
   "display_name": "Python 3",
   "language": "python",
   "name": "python3"
  },
  "language_info": {
   "codemirror_mode": {
    "name": "ipython",
    "version": 3
   },
   "file_extension": ".py",
   "mimetype": "text/x-python",
   "name": "python",
   "nbconvert_exporter": "python",
   "pygments_lexer": "ipython3",
   "version": "3.8.8"
  }
 },
 "nbformat": 4,
 "nbformat_minor": 5
}

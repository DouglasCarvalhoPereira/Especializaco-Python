{
 "cells": [
  {
   "cell_type": "markdown",
   "id": "549b5ba8",
   "metadata": {},
   "source": [
    "Abre o navegador digita o link na barra de endereço e carrega a pagina"
   ]
  },
  {
   "cell_type": "code",
   "execution_count": 2,
   "id": "9b80af9e",
   "metadata": {
    "scrolled": true
   },
   "outputs": [],
   "source": [
    "import keyboard\n",
    "\n",
    "keyboard.press_and_release('ctrl+t')\n",
    "keyboard.write('facebook.com')\n",
    "keyboard.press_and_release('enter')"
   ]
  }
 ],
 "metadata": {
  "kernelspec": {
   "display_name": "Python 3",
   "language": "python",
   "name": "python3"
  },
  "language_info": {
   "codemirror_mode": {
    "name": "ipython",
    "version": 3
   },
   "file_extension": ".py",
   "mimetype": "text/x-python",
   "name": "python",
   "nbconvert_exporter": "python",
   "pygments_lexer": "ipython3",
   "version": "3.8.8"
  }
 },
 "nbformat": 4,
 "nbformat_minor": 5
}

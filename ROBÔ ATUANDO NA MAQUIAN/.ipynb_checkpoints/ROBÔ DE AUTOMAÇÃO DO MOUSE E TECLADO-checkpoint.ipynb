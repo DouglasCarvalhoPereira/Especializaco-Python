{
 "cells": [
  {
   "cell_type": "markdown",
   "id": "1acf5ec4",
   "metadata": {},
   "source": [
    "# ROBO QUE AUTOMATICO - CONTROLA NOTEBOOK - RPA"
   ]
  },
  {
   "cell_type": "markdown",
   "id": "261b57f1",
   "metadata": {},
   "source": [
    "## Biblioteca usada\n",
    "\n",
    " PyAutoGUI\n",
    " https://pyautogui.readthedocs.io/en/latest/#\n",
    "\n",
    "\n",
    " Principais comandos\n",
    " https://pyautogui.readthedocs.io/en/latest/quickstart.html\n",
    " \n",
    " ### Principais comandos\n",
    " \n",
    "1. pyautogui.write() - > Escrever\n",
    "2. pyautogui.click - > Clica\n",
    "3. pyautogui.locateOnScreen - > Identifica uma imagem na tela\n",
    "4. pyautogui.hotkey - > Usa atalhos do teclado\n",
    "5. pyautogui.press - > Aperta um botão no teclado"
   ]
  },
  {
   "cell_type": "markdown",
   "id": "9e998386",
   "metadata": {},
   "source": [
    "### Passo para abrir um sistema\n",
    "\n",
    "Como seria o passo a passo para executar a ação que eu quero!"
   ]
  },
  {
   "cell_type": "markdown",
   "id": "5c59a9a6",
   "metadata": {},
   "source": [
    "import pyautogui\n",
    "\n",
    "#Aatalho Windowsany\n",
    "pyautogui.press('win')\n",
    "pyautogui.PAUSE = 1\n",
    "#Escrevo chrome\n",
    "pyautogui.write('chrome')\n",
    "pyautogui.PAUSE = 1\n",
    "#Pressiono ENTER\n",
    "pyautogui.press('enter')\n",
    "pyautogui.PAUSE = 1"
   ]
  },
  {
   "cell_type": "markdown",
   "id": "d859031f",
   "metadata": {},
   "source": []
  }
 ],
 "metadata": {
  "kernelspec": {
   "display_name": "Python 3",
   "language": "python",
   "name": "python3"
  },
  "language_info": {
   "codemirror_mode": {
    "name": "ipython",
    "version": 3
   },
   "file_extension": ".py",
   "mimetype": "text/x-python",
   "name": "python",
   "nbconvert_exporter": "python",
   "pygments_lexer": "ipython3",
   "version": "3.8.8"
  }
 },
 "nbformat": 4,
 "nbformat_minor": 5
}

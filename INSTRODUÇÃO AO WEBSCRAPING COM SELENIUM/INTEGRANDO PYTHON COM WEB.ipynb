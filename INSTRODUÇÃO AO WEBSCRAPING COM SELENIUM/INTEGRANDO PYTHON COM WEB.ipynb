{
 "cells": [
  {
   "cell_type": "markdown",
   "id": "80996307",
   "metadata": {},
   "source": [
    "# Selenium e Python"
   ]
  },
  {
   "cell_type": "code",
   "execution_count": 15,
   "id": "b5d13cbd",
   "metadata": {},
   "outputs": [
    {
     "name": "stdout",
     "output_type": "stream",
     "text": [
      "Fit Delivery - Saudável do seu jeito\n"
     ]
    }
   ],
   "source": [
    "from selenium import webdriver\n",
    "\n",
    "#PARA RODAR SEM MOSTRAR O NAVEGADOR\n",
    "chrome_options = webdriver.ChromeOptions()\n",
    "chrome_options.add_argument('headless')\n",
    "\n",
    "#Para exibir o navegador eu tiro o argumento\n",
    "driver = webdriver.Chrome(options=chrome_options)\n",
    "driver.get('https://fitdeliveryonline.com')\n",
    "\n",
    "#Mostra o titulo da pagina para mostrar que está funcionando\n",
    "print(driver.title)"
   ]
  },
  {
   "cell_type": "markdown",
   "id": "8f07ec38",
   "metadata": {},
   "source": [
    "# PREENCHENDO FORMULÁRIO AUTOMÁTICAMENTE"
   ]
  },
  {
   "cell_type": "code",
   "execution_count": 46,
   "id": "a67443f7",
   "metadata": {},
   "outputs": [
    {
     "name": "stderr",
     "output_type": "stream",
     "text": [
      "<ipython-input-46-9bbdb802999b>:11: DeprecationWarning: find_element_by_* commands are deprecated. Please use find_element() instead\n",
      "  driver.find_element_by_class_name('fancybox-item').click()\n",
      "<ipython-input-46-9bbdb802999b>:13: DeprecationWarning: find_element_by_* commands are deprecated. Please use find_element() instead\n",
      "  driver.find_element_by_class_name('menu-contato').click()\n",
      "<ipython-input-46-9bbdb802999b>:16: DeprecationWarning: find_element_by_* commands are deprecated. Please use find_element() instead\n",
      "  nome = driver.find_element_by_id('nome').send_keys('Douglas')\n",
      "<ipython-input-46-9bbdb802999b>:19: DeprecationWarning: find_element_by_* commands are deprecated. Please use find_element() instead\n",
      "  email = driver.find_element_by_id('email').send_keys('carvalhodouglaspereira@gmail.com')\n",
      "<ipython-input-46-9bbdb802999b>:22: DeprecationWarning: find_element_by_* commands are deprecated. Please use find_element() instead\n",
      "  telefone = driver.find_element_by_id('telefone').send_keys('24988219104')\n",
      "<ipython-input-46-9bbdb802999b>:25: DeprecationWarning: find_element_by_* commands are deprecated. Please use find_element() instead\n",
      "  mensagem = driver.find_element_by_id('mensagem').send_keys('Teste de automação Douglas!')\n",
      "<ipython-input-46-9bbdb802999b>:29: DeprecationWarning: find_element_by_* commands are deprecated. Please use find_element() instead\n",
      "  button = driver.find_element_by_css_selector('button.btn-large').click()\n"
     ]
    }
   ],
   "source": [
    "from selenium import webdriver\n",
    "import time\n",
    "\n",
    "#PARA RODAR SEM MOSTRAR O NAVEGADOR\n",
    "chrome_options = webdriver.ChromeOptions()\n",
    "\n",
    "#Para exibir o navegador eu tiro o argumento\n",
    "driver = webdriver.Chrome()\n",
    "driver.get('https://fitdeliveryonline.com/')\n",
    "time.sleep(10)\n",
    "driver.find_element_by_class_name('fancybox-item').click()\n",
    "time.sleep(2)\n",
    "driver.find_element_by_class_name('menu-contato').click()\n",
    "time.sleep(3)\n",
    "#Preenche Nome\n",
    "nome = driver.find_element_by_id('nome').send_keys('Douglas')\n",
    "\n",
    "#Preenche Email\n",
    "email = driver.find_element_by_id('email').send_keys('carvalhodouglaspereira@gmail.com')\n",
    "\n",
    "#Preenche Telefone\n",
    "telefone = driver.find_element_by_id('telefone').send_keys('24988219104')\n",
    "\n",
    "#Preenche Mensagem\n",
    "mensagem = driver.find_element_by_id('mensagem').send_keys('Teste de automação Douglas!')\n",
    "\n",
    "#Clicando em Enviar\n",
    "time.sleep(1)\n",
    "button = driver.find_element_by_css_selector('button.btn-large').click()"
   ]
  },
  {
   "cell_type": "markdown",
   "id": "15911009",
   "metadata": {},
   "source": [
    "# É possível selecinar usando a TAG e CLASSE"
   ]
  },
  {
   "cell_type": "code",
   "execution_count": null,
   "id": "bf6124e8",
   "metadata": {},
   "outputs": [],
   "source": [
    "driver.find_element_by_css_selector()"
   ]
  }
 ],
 "metadata": {
  "kernelspec": {
   "display_name": "Python 3",
   "language": "python",
   "name": "python3"
  },
  "language_info": {
   "codemirror_mode": {
    "name": "ipython",
    "version": 3
   },
   "file_extension": ".py",
   "mimetype": "text/x-python",
   "name": "python",
   "nbconvert_exporter": "python",
   "pygments_lexer": "ipython3",
   "version": "3.8.8"
  }
 },
 "nbformat": 4,
 "nbformat_minor": 5
}

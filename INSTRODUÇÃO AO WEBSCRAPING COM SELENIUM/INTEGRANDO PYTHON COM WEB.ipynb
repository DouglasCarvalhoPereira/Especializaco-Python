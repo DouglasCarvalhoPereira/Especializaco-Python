{
 "cells": [
  {
   "cell_type": "markdown",
   "id": "80996307",
   "metadata": {},
   "source": [
    "# Selenium e Python"
   ]
  },
  {
   "cell_type": "code",
   "execution_count": 15,
   "id": "b5d13cbd",
   "metadata": {},
   "outputs": [
    {
     "name": "stdout",
     "output_type": "stream",
     "text": [
      "Fit Delivery - Saudável do seu jeito\n"
     ]
    }
   ],
   "source": [
    "from selenium import webdriver\n",
    "\n",
    "#PARA RODAR SEM MOSTRAR O NAVEGADOR\n",
    "chrome_options = webdriver.ChromeOptions()\n",
    "chrome_options.add_argument('headless')\n",
    "\n",
    "#Para exibir o navegador eu tiro o argumento\n",
    "driver = webdriver.Chrome(options=chrome_options)\n",
    "driver.get('https://fitdeliveryonline.com')\n",
    "\n",
    "#Mostra o titulo da pagina para mostrar que está funcionando\n",
    "print(driver.title)"
   ]
  },
  {
   "cell_type": "markdown",
   "id": "875c615a",
   "metadata": {},
   "source": [
    "# PREENCHENDO FORMULÁRIO AUTOMÁTICAMENTE"
   ]
  },
  {
   "cell_type": "code",
   "execution_count": 46,
   "id": "a7e76d96",
   "metadata": {},
   "outputs": [
    {
     "name": "stderr",
     "output_type": "stream",
     "text": [
      "<ipython-input-46-9bbdb802999b>:11: DeprecationWarning: find_element_by_* commands are deprecated. Please use find_element() instead\n",
      "  driver.find_element_by_class_name('fancybox-item').click()\n",
      "<ipython-input-46-9bbdb802999b>:13: DeprecationWarning: find_element_by_* commands are deprecated. Please use find_element() instead\n",
      "  driver.find_element_by_class_name('menu-contato').click()\n",
      "<ipython-input-46-9bbdb802999b>:16: DeprecationWarning: find_element_by_* commands are deprecated. Please use find_element() instead\n",
      "  nome = driver.find_element_by_id('nome').send_keys('Douglas')\n",
      "<ipython-input-46-9bbdb802999b>:19: DeprecationWarning: find_element_by_* commands are deprecated. Please use find_element() instead\n",
      "  email = driver.find_element_by_id('email').send_keys('carvalhodouglaspereira@gmail.com')\n",
      "<ipython-input-46-9bbdb802999b>:22: DeprecationWarning: find_element_by_* commands are deprecated. Please use find_element() instead\n",
      "  telefone = driver.find_element_by_id('telefone').send_keys('24988219104')\n",
      "<ipython-input-46-9bbdb802999b>:25: DeprecationWarning: find_element_by_* commands are deprecated. Please use find_element() instead\n",
      "  mensagem = driver.find_element_by_id('mensagem').send_keys('Teste de automação Douglas!')\n",
      "<ipython-input-46-9bbdb802999b>:29: DeprecationWarning: find_element_by_* commands are deprecated. Please use find_element() instead\n",
      "  button = driver.find_element_by_css_selector('button.btn-large').click()\n"
     ]
    }
   ],
   "source": [
    "from selenium import webdriver\n",
    "import time\n",
    "\n",
    "#PARA RODAR SEM MOSTRAR O NAVEGADOR\n",
    "chrome_options = webdriver.ChromeOptions()\n",
    "\n",
    "#Para exibir o navegador eu tiro o argumento\n",
    "driver = webdriver.Chrome()\n",
    "driver.get('https://fitdeliveryonline.com/')\n",
    "time.sleep(10)\n",
    "driver.find_element_by_class_name('fancybox-item').click()\n",
    "time.sleep(2)\n",
    "driver.find_element_by_class_name('menu-contato').click()\n",
    "time.sleep(3)\n",
    "#Preenche Nome\n",
    "nome = driver.find_element_by_id('nome').send_keys('Douglas')\n",
    "\n",
    "#Preenche Email\n",
    "email = driver.find_element_by_id('email').send_keys('carvalhodouglaspereira@gmail.com')\n",
    "\n",
    "#Preenche Telefone\n",
    "telefone = driver.find_element_by_id('telefone').send_keys('24988219104')\n",
    "\n",
    "#Preenche Mensagem\n",
    "mensagem = driver.find_element_by_id('mensagem').send_keys('Teste de automação Douglas!')\n",
    "\n",
    "#Clicando em Enviar\n",
    "time.sleep(1)\n",
    "button = driver.find_element_by_css_selector('button.btn-large').click()"
   ]
  },
  {
   "cell_type": "markdown",
   "id": "f1aafe44",
   "metadata": {},
   "source": [
    "# XPATH para encontrar elementos com Slenium\n",
    "\n",
    "Dependendo do XPath, pequenas alterações fazem-no parar de funcionar\n",
    "\n",
    "### Vamos logar no Facebook Automáticamente"
   ]
  },
  {
   "cell_type": "code",
   "execution_count": 47,
   "id": "b3ea8cef",
   "metadata": {},
   "outputs": [],
   "source": [
    "from selenium import webdriver\n",
    "\n",
    "driver = webdriver.Chrome()\n",
    "driver.get('https://facebook.com')"
   ]
  },
  {
   "cell_type": "code",
   "execution_count": 48,
   "id": "4c75c254",
   "metadata": {},
   "outputs": [
    {
     "name": "stderr",
     "output_type": "stream",
     "text": [
      "<ipython-input-48-356207358e47>:1: DeprecationWarning: find_element_by_* commands are deprecated. Please use find_element() instead\n",
      "  driver.find_element_by_xpath('//*[@id=\"email\"]').send_keys('douglascarvalhonovo@hotmail.com')\n",
      "<ipython-input-48-356207358e47>:2: DeprecationWarning: find_element_by_* commands are deprecated. Please use find_element() instead\n",
      "  driver.find_element_by_xpath('//*[@id=\"pass\"]').send_keys('Bilhao50')\n",
      "<ipython-input-48-356207358e47>:3: DeprecationWarning: find_element_by_* commands are deprecated. Please use find_element() instead\n",
      "  driver.find_element_by_xpath('//*[@id=\"u_0_d_fK\"]').submit()\n"
     ]
    }
   ],
   "source": [
    "driver.find_element_by_xpath('//*[@id=\"email\"]').send_keys('douglascarvalhonovo@hotmail.com')\n",
    "driver.find_element_by_xpath('//*[@id=\"pass\"]').send_keys('Bilhao50')\n",
    "driver.find_element_by_xpath('//*[@id=\"u_0_d_fK\"]').submit()"
   ]
  },
  {
   "cell_type": "markdown",
   "id": "a1aa14fb",
   "metadata": {},
   "source": [
    "# ESPERAR O ELEMENTO CARREGAR\n",
    "\n",
    "1. WebDriverWait + ExpectedConditions (EC)\n",
    "2. Loop de espera manual"
   ]
  },
  {
   "cell_type": "code",
   "execution_count": 51,
   "id": "d2a952f4",
   "metadata": {},
   "outputs": [],
   "source": [
    "from selenium import webdriver\n",
    "import time\n",
    "from selenium.webdriver.common.by import By\n",
    "from selenium.webdriver.support.ui import WebDriverWait\n",
    "from selenium.webdriver.support import expected_conditions as EC\n",
    "\n",
    "site = webdriver.Chrome()\n",
    "site.get('https://fitdeliveryonline.com/')\n",
    "\n",
    "elemento = WebDriverWait(site, 20).until(EC.presence_of_element_located((By.CLASS_NAME, 'fancybox-item'))).click()\n"
   ]
  },
  {
   "cell_type": "markdown",
   "id": "fbece007",
   "metadata": {},
   "source": [
    "### Modo 2 com LOOP"
   ]
  },
  {
   "cell_type": "code",
   "execution_count": 59,
   "id": "b4db21d5",
   "metadata": {},
   "outputs": [
    {
     "name": "stderr",
     "output_type": "stream",
     "text": [
      "<ipython-input-59-c448e8074b96>:10: DeprecationWarning: find_element_by_* commands are deprecated. Please use find_element() instead\n",
      "  while len(site.find_element_by_class_name('fancybox-item')) == 0:\n"
     ]
    },
    {
     "ename": "NoSuchElementException",
     "evalue": "Message: no such element: Unable to locate element: {\"method\":\"css selector\",\"selector\":\".fancybox-item\"}\n  (Session info: chrome=95.0.4638.69)\nStacktrace:\nBacktrace:\n\tOrdinal0 [0x00700C43+2493507]\n\tOrdinal0 [0x0069A4B1+2073777]\n\tOrdinal0 [0x005A2608+1058312]\n\tOrdinal0 [0x005CCAA4+1231524]\n\tOrdinal0 [0x005F6C62+1404002]\n\tOrdinal0 [0x005E597A+1333626]\n\tOrdinal0 [0x005F5038+1396792]\n\tOrdinal0 [0x005E580B+1333259]\n\tOrdinal0 [0x005C2314+1188628]\n\tOrdinal0 [0x005C316F+1192303]\n\tGetHandleVerifier [0x00887BF6+1548950]\n\tGetHandleVerifier [0x0093461C+2256060]\n\tGetHandleVerifier [0x0078C13B+518107]\n\tGetHandleVerifier [0x0078B1E0+514176]\n\tOrdinal0 [0x0069F53D+2094397]\n\tOrdinal0 [0x006A3418+2110488]\n\tOrdinal0 [0x006A3552+2110802]\n\tOrdinal0 [0x006ACE81+2150017]\n\tBaseThreadInitThunk [0x7550FA29+25]\n\tRtlGetAppContainerNamedObjectPath [0x77437A9E+286]\n\tRtlGetAppContainerNamedObjectPath [0x77437A6E+238]\n",
     "output_type": "error",
     "traceback": [
      "\u001b[1;31m---------------------------------------------------------------------------\u001b[0m",
      "\u001b[1;31mNoSuchElementException\u001b[0m                    Traceback (most recent call last)",
      "\u001b[1;32m<ipython-input-59-c448e8074b96>\u001b[0m in \u001b[0;36m<module>\u001b[1;34m\u001b[0m\n\u001b[0;32m      8\u001b[0m \u001b[0msite\u001b[0m\u001b[1;33m.\u001b[0m\u001b[0mget\u001b[0m\u001b[1;33m(\u001b[0m\u001b[1;34m'https://fitdeliveryonline.com/'\u001b[0m\u001b[1;33m)\u001b[0m\u001b[1;33m\u001b[0m\u001b[1;33m\u001b[0m\u001b[0m\n\u001b[0;32m      9\u001b[0m \u001b[1;33m\u001b[0m\u001b[0m\n\u001b[1;32m---> 10\u001b[1;33m \u001b[1;32mwhile\u001b[0m \u001b[0mlen\u001b[0m\u001b[1;33m(\u001b[0m\u001b[0msite\u001b[0m\u001b[1;33m.\u001b[0m\u001b[0mfind_element_by_class_name\u001b[0m\u001b[1;33m(\u001b[0m\u001b[1;34m'fancybox-item'\u001b[0m\u001b[1;33m)\u001b[0m\u001b[1;33m)\u001b[0m \u001b[1;33m==\u001b[0m \u001b[1;36m0\u001b[0m\u001b[1;33m:\u001b[0m\u001b[1;33m\u001b[0m\u001b[1;33m\u001b[0m\u001b[0m\n\u001b[0m\u001b[0;32m     11\u001b[0m     \u001b[0mtime\u001b[0m\u001b[1;33m.\u001b[0m\u001b[0msleep\u001b[0m\u001b[1;33m(\u001b[0m\u001b[1;36m1\u001b[0m\u001b[1;33m)\u001b[0m\u001b[1;33m\u001b[0m\u001b[1;33m\u001b[0m\u001b[0m\n\u001b[0;32m     12\u001b[0m \u001b[1;33m\u001b[0m\u001b[0m\n",
      "\u001b[1;32m~\\anaconda3\\lib\\site-packages\\selenium\\webdriver\\remote\\webdriver.py\u001b[0m in \u001b[0;36mfind_element_by_class_name\u001b[1;34m(self, name)\u001b[0m\n\u001b[0;32m    752\u001b[0m             \u001b[0mstacklevel\u001b[0m\u001b[1;33m=\u001b[0m\u001b[1;36m2\u001b[0m\u001b[1;33m,\u001b[0m\u001b[1;33m\u001b[0m\u001b[1;33m\u001b[0m\u001b[0m\n\u001b[0;32m    753\u001b[0m         )\n\u001b[1;32m--> 754\u001b[1;33m         \u001b[1;32mreturn\u001b[0m \u001b[0mself\u001b[0m\u001b[1;33m.\u001b[0m\u001b[0mfind_element\u001b[0m\u001b[1;33m(\u001b[0m\u001b[0mby\u001b[0m\u001b[1;33m=\u001b[0m\u001b[0mBy\u001b[0m\u001b[1;33m.\u001b[0m\u001b[0mCLASS_NAME\u001b[0m\u001b[1;33m,\u001b[0m \u001b[0mvalue\u001b[0m\u001b[1;33m=\u001b[0m\u001b[0mname\u001b[0m\u001b[1;33m)\u001b[0m\u001b[1;33m\u001b[0m\u001b[1;33m\u001b[0m\u001b[0m\n\u001b[0m\u001b[0;32m    755\u001b[0m \u001b[1;33m\u001b[0m\u001b[0m\n\u001b[0;32m    756\u001b[0m     \u001b[1;32mdef\u001b[0m \u001b[0mfind_elements_by_class_name\u001b[0m\u001b[1;33m(\u001b[0m\u001b[0mself\u001b[0m\u001b[1;33m,\u001b[0m \u001b[0mname\u001b[0m\u001b[1;33m)\u001b[0m \u001b[1;33m->\u001b[0m \u001b[0mWebElement\u001b[0m\u001b[1;33m:\u001b[0m\u001b[1;33m\u001b[0m\u001b[1;33m\u001b[0m\u001b[0m\n",
      "\u001b[1;32m~\\anaconda3\\lib\\site-packages\\selenium\\webdriver\\remote\\webdriver.py\u001b[0m in \u001b[0;36mfind_element\u001b[1;34m(self, by, value)\u001b[0m\n\u001b[0;32m   1236\u001b[0m             \u001b[0mvalue\u001b[0m \u001b[1;33m=\u001b[0m \u001b[1;34m'[name=\"%s\"]'\u001b[0m \u001b[1;33m%\u001b[0m \u001b[0mvalue\u001b[0m\u001b[1;33m\u001b[0m\u001b[1;33m\u001b[0m\u001b[0m\n\u001b[0;32m   1237\u001b[0m \u001b[1;33m\u001b[0m\u001b[0m\n\u001b[1;32m-> 1238\u001b[1;33m         return self.execute(Command.FIND_ELEMENT, {\n\u001b[0m\u001b[0;32m   1239\u001b[0m             \u001b[1;34m'using'\u001b[0m\u001b[1;33m:\u001b[0m \u001b[0mby\u001b[0m\u001b[1;33m,\u001b[0m\u001b[1;33m\u001b[0m\u001b[1;33m\u001b[0m\u001b[0m\n\u001b[0;32m   1240\u001b[0m             'value': value})['value']\n",
      "\u001b[1;32m~\\anaconda3\\lib\\site-packages\\selenium\\webdriver\\remote\\webdriver.py\u001b[0m in \u001b[0;36mexecute\u001b[1;34m(self, driver_command, params)\u001b[0m\n\u001b[0;32m    416\u001b[0m         \u001b[0mresponse\u001b[0m \u001b[1;33m=\u001b[0m \u001b[0mself\u001b[0m\u001b[1;33m.\u001b[0m\u001b[0mcommand_executor\u001b[0m\u001b[1;33m.\u001b[0m\u001b[0mexecute\u001b[0m\u001b[1;33m(\u001b[0m\u001b[0mdriver_command\u001b[0m\u001b[1;33m,\u001b[0m \u001b[0mparams\u001b[0m\u001b[1;33m)\u001b[0m\u001b[1;33m\u001b[0m\u001b[1;33m\u001b[0m\u001b[0m\n\u001b[0;32m    417\u001b[0m         \u001b[1;32mif\u001b[0m \u001b[0mresponse\u001b[0m\u001b[1;33m:\u001b[0m\u001b[1;33m\u001b[0m\u001b[1;33m\u001b[0m\u001b[0m\n\u001b[1;32m--> 418\u001b[1;33m             \u001b[0mself\u001b[0m\u001b[1;33m.\u001b[0m\u001b[0merror_handler\u001b[0m\u001b[1;33m.\u001b[0m\u001b[0mcheck_response\u001b[0m\u001b[1;33m(\u001b[0m\u001b[0mresponse\u001b[0m\u001b[1;33m)\u001b[0m\u001b[1;33m\u001b[0m\u001b[1;33m\u001b[0m\u001b[0m\n\u001b[0m\u001b[0;32m    419\u001b[0m             response['value'] = self._unwrap_value(\n\u001b[0;32m    420\u001b[0m                 response.get('value', None))\n",
      "\u001b[1;32m~\\anaconda3\\lib\\site-packages\\selenium\\webdriver\\remote\\errorhandler.py\u001b[0m in \u001b[0;36mcheck_response\u001b[1;34m(self, response)\u001b[0m\n\u001b[0;32m    241\u001b[0m                 \u001b[0malert_text\u001b[0m \u001b[1;33m=\u001b[0m \u001b[0mvalue\u001b[0m\u001b[1;33m[\u001b[0m\u001b[1;34m'alert'\u001b[0m\u001b[1;33m]\u001b[0m\u001b[1;33m.\u001b[0m\u001b[0mget\u001b[0m\u001b[1;33m(\u001b[0m\u001b[1;34m'text'\u001b[0m\u001b[1;33m)\u001b[0m\u001b[1;33m\u001b[0m\u001b[1;33m\u001b[0m\u001b[0m\n\u001b[0;32m    242\u001b[0m             \u001b[1;32mraise\u001b[0m \u001b[0mexception_class\u001b[0m\u001b[1;33m(\u001b[0m\u001b[0mmessage\u001b[0m\u001b[1;33m,\u001b[0m \u001b[0mscreen\u001b[0m\u001b[1;33m,\u001b[0m \u001b[0mstacktrace\u001b[0m\u001b[1;33m,\u001b[0m \u001b[0malert_text\u001b[0m\u001b[1;33m)\u001b[0m  \u001b[1;31m# type: ignore[call-arg]  # mypy is not smart enough here\u001b[0m\u001b[1;33m\u001b[0m\u001b[1;33m\u001b[0m\u001b[0m\n\u001b[1;32m--> 243\u001b[1;33m         \u001b[1;32mraise\u001b[0m \u001b[0mexception_class\u001b[0m\u001b[1;33m(\u001b[0m\u001b[0mmessage\u001b[0m\u001b[1;33m,\u001b[0m \u001b[0mscreen\u001b[0m\u001b[1;33m,\u001b[0m \u001b[0mstacktrace\u001b[0m\u001b[1;33m)\u001b[0m\u001b[1;33m\u001b[0m\u001b[1;33m\u001b[0m\u001b[0m\n\u001b[0m\u001b[0;32m    244\u001b[0m \u001b[1;33m\u001b[0m\u001b[0m\n\u001b[0;32m    245\u001b[0m     \u001b[1;32mdef\u001b[0m \u001b[0m_value_or_default\u001b[0m\u001b[1;33m(\u001b[0m\u001b[0mself\u001b[0m\u001b[1;33m,\u001b[0m \u001b[0mobj\u001b[0m\u001b[1;33m:\u001b[0m \u001b[0mMapping\u001b[0m\u001b[1;33m[\u001b[0m\u001b[0m_KT\u001b[0m\u001b[1;33m,\u001b[0m \u001b[0m_VT\u001b[0m\u001b[1;33m]\u001b[0m\u001b[1;33m,\u001b[0m \u001b[0mkey\u001b[0m\u001b[1;33m:\u001b[0m \u001b[0m_KT\u001b[0m\u001b[1;33m,\u001b[0m \u001b[0mdefault\u001b[0m\u001b[1;33m:\u001b[0m \u001b[0m_VT\u001b[0m\u001b[1;33m)\u001b[0m \u001b[1;33m->\u001b[0m \u001b[0m_VT\u001b[0m\u001b[1;33m:\u001b[0m\u001b[1;33m\u001b[0m\u001b[1;33m\u001b[0m\u001b[0m\n",
      "\u001b[1;31mNoSuchElementException\u001b[0m: Message: no such element: Unable to locate element: {\"method\":\"css selector\",\"selector\":\".fancybox-item\"}\n  (Session info: chrome=95.0.4638.69)\nStacktrace:\nBacktrace:\n\tOrdinal0 [0x00700C43+2493507]\n\tOrdinal0 [0x0069A4B1+2073777]\n\tOrdinal0 [0x005A2608+1058312]\n\tOrdinal0 [0x005CCAA4+1231524]\n\tOrdinal0 [0x005F6C62+1404002]\n\tOrdinal0 [0x005E597A+1333626]\n\tOrdinal0 [0x005F5038+1396792]\n\tOrdinal0 [0x005E580B+1333259]\n\tOrdinal0 [0x005C2314+1188628]\n\tOrdinal0 [0x005C316F+1192303]\n\tGetHandleVerifier [0x00887BF6+1548950]\n\tGetHandleVerifier [0x0093461C+2256060]\n\tGetHandleVerifier [0x0078C13B+518107]\n\tGetHandleVerifier [0x0078B1E0+514176]\n\tOrdinal0 [0x0069F53D+2094397]\n\tOrdinal0 [0x006A3418+2110488]\n\tOrdinal0 [0x006A3552+2110802]\n\tOrdinal0 [0x006ACE81+2150017]\n\tBaseThreadInitThunk [0x7550FA29+25]\n\tRtlGetAppContainerNamedObjectPath [0x77437A9E+286]\n\tRtlGetAppContainerNamedObjectPath [0x77437A6E+238]\n"
     ]
    }
   ],
   "source": [
    "from selenium import webdriver\n",
    "import time\n",
    "from selenium.webdriver.common.by import By\n",
    "from selenium.webdriver.support.ui import WebDriverWait\n",
    "from selenium.webdriver.support import expected_conditions as EC\n",
    "\n",
    "site = webdriver.Chrome()\n",
    "site.get('https://fitdeliveryonline.com/')\n",
    "\n",
    "while len(site.find_element_by_class_name('fancybox-item')) == 0:\n",
    "    time.sleep(1)\n",
    "\n",
    "time.sleep(5)\n",
    "site.find_element_by_class_name('fancybox-item').click()"
   ]
  }
 ],
 "metadata": {
  "kernelspec": {
   "display_name": "Python 3",
   "language": "python",
   "name": "python3"
  },
  "language_info": {
   "codemirror_mode": {
    "name": "ipython",
    "version": 3
   },
   "file_extension": ".py",
   "mimetype": "text/x-python",
   "name": "python",
   "nbconvert_exporter": "python",
   "pygments_lexer": "ipython3",
   "version": "3.8.8"
  }
 },
 "nbformat": 4,
 "nbformat_minor": 5
}

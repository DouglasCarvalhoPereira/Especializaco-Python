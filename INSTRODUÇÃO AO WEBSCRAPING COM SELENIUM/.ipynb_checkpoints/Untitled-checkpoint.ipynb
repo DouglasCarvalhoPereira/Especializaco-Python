{
 "cells": [
  {
   "cell_type": "markdown",
   "id": "205d0629",
   "metadata": {},
   "source": [
    "# iFrames - Paginas dentro de Página"
   ]
  },
  {
   "cell_type": "code",
   "execution_count": 6,
   "id": "2e8bee06",
   "metadata": {},
   "outputs": [
    {
     "name": "stdout",
     "output_type": "stream",
     "text": [
      "1,24\n"
     ]
    },
    {
     "name": "stderr",
     "output_type": "stream",
     "text": [
      "<ipython-input-6-237c240cacd1>:9: DeprecationWarning: find_element_by_* commands are deprecated. Please use find_element() instead\n",
      "  iframe = driver.find_element_by_tag_name('iframe')\n",
      "<ipython-input-6-237c240cacd1>:13: DeprecationWarning: find_element_by_* commands are deprecated. Please use find_element() instead\n",
      "  iframe = driver.find_element_by_tag_name('iframe')\n",
      "<ipython-input-6-237c240cacd1>:16: DeprecationWarning: find_element_by_* commands are deprecated. Please use find_element() instead\n",
      "  texto = driver.find_element_by_xpath('//*[@id=\"pvExplorationHost\"]/div/div/exploration/div/explore-canvas/div/div[2]/div/div[2]/div[2]/visual-container-repeat/visual-container[19]/transform/div/div[3]/div/visual-modern/div/div/div[2]/div[1]/div[4]/div/div[1]/div[8]/div[13]').text\n"
     ]
    }
   ],
   "source": [
    "from selenium import webdriver\n",
    "import time\n",
    "\n",
    "driver = webdriver.Chrome()\n",
    "driver.get('https://pbdatatrader.com.br/jogosdodia')\n",
    "time.sleep(7)\n",
    "\n",
    "#Acessando iFrame dentro da pagina\n",
    "iframe = driver.find_element_by_tag_name('iframe')\n",
    "driver.switch_to.frame(iframe)\n",
    "\n",
    "#Acessando o segundo iFrame dentro do iFrame anterior\n",
    "iframe = driver.find_element_by_tag_name('iframe')\n",
    "driver.switch_to.frame(iframe)\n",
    "\n",
    "texto = driver.find_element_by_xpath('//*[@id=\"pvExplorationHost\"]/div/div/exploration/div/explore-canvas/div/div[2]/div/div[2]/div[2]/visual-container-repeat/visual-container[19]/transform/div/div[3]/div/visual-modern/div/div/div[2]/div[1]/div[4]/div/div[1]/div[8]/div[13]').text\n",
    "print(texto)\n",
    "\n",
    "#Voltando para pagina principal\n",
    "driver.switch_to.default_content()"
   ]
  },
  {
   "cell_type": "code",
   "execution_count": null,
   "id": "89048ff0",
   "metadata": {},
   "outputs": [],
   "source": [
    "    "
   ]
  }
 ],
 "metadata": {
  "kernelspec": {
   "display_name": "Python 3",
   "language": "python",
   "name": "python3"
  },
  "language_info": {
   "codemirror_mode": {
    "name": "ipython",
    "version": 3
   },
   "file_extension": ".py",
   "mimetype": "text/x-python",
   "name": "python",
   "nbconvert_exporter": "python",
   "pygments_lexer": "ipython3",
   "version": "3.8.8"
  }
 },
 "nbformat": 4,
 "nbformat_minor": 5
}

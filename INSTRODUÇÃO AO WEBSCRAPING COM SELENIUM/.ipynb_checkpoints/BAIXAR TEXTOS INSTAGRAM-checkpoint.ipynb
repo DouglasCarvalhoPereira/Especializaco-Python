{
 "cells": [
  {
   "cell_type": "code",
   "execution_count": 2,
   "id": "04f65563",
   "metadata": {},
   "outputs": [],
   "source": [
    "from selenium import webdriver\n",
    "import time\n",
    "from selenium.webdriver.common.keys import Keys\n",
    "\n",
    "driver = webdriver.Chrome()\n",
    "driver.get('https://fitdeliveryonline.com')\n",
    "time.sleep(2)\n",
    "driver.find_element_by_xpath('/html/body/div[8]/div/div/a').click()"
   ]
  },
  {
   "cell_type": "code",
   "execution_count": 4,
   "id": "24289951",
   "metadata": {},
   "outputs": [
    {
     "name": "stdout",
     "output_type": "stream",
     "text": [
      "NOVIDADES\n"
     ]
    },
    {
     "name": "stderr",
     "output_type": "stream",
     "text": [
      "<ipython-input-4-de0d4ea84dd0>:1: DeprecationWarning: find_element_by_* commands are deprecated. Please use find_element() instead\n",
      "  title_categoria = driver.find_element_by_css_selector('h3.fadeInDown')\n"
     ]
    }
   ],
   "source": [
    "title_categoria = driver.find_element_by_css_selector('h3.fadeInDown')\n",
    "print(title_categoria.text)"
   ]
  }
 ],
 "metadata": {
  "kernelspec": {
   "display_name": "Python 3",
   "language": "python",
   "name": "python3"
  },
  "language_info": {
   "codemirror_mode": {
    "name": "ipython",
    "version": 3
   },
   "file_extension": ".py",
   "mimetype": "text/x-python",
   "name": "python",
   "nbconvert_exporter": "python",
   "pygments_lexer": "ipython3",
   "version": "3.8.8"
  }
 },
 "nbformat": 4,
 "nbformat_minor": 5
}

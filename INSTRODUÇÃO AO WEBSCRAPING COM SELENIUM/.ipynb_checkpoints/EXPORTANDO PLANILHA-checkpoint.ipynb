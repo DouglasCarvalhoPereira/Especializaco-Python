{
 "cells": [
  {
   "cell_type": "markdown",
   "id": "ad62587d",
   "metadata": {},
   "source": [
    "# Download Diário de cotação do dolar\n",
    "\n",
    "- Site investing.com para baixar esses dados\n",
    "- Link https://br.investing.com/currencies/usd-brl-historical-data\n",
    "- Criar uma conta no site"
   ]
  },
  {
   "cell_type": "code",
   "execution_count": 30,
   "id": "816fb3a8",
   "metadata": {
    "scrolled": false
   },
   "outputs": [
    {
     "name": "stderr",
     "output_type": "stream",
     "text": [
      "<ipython-input-30-0031c1af24f3>:8: DeprecationWarning: find_element_by_* commands are deprecated. Please use find_element() instead\n",
      "  driver.find_element_by_id('onetrust-accept-btn-handler').click()\n",
      "<ipython-input-30-0031c1af24f3>:10: DeprecationWarning: find_element_by_* commands are deprecated. Please use find_element() instead\n",
      "  driver.find_element_by_xpath('//*[@id=\"column-content\"]/div[4]/div/a').click()\n",
      "<ipython-input-30-0031c1af24f3>:12: DeprecationWarning: find_element_by_* commands are deprecated. Please use find_element() instead\n",
      "  driver.find_element_by_id('loginFormUser_email').send_keys('carvalhodouglaspereira@gmail.com')\n",
      "<ipython-input-30-0031c1af24f3>:13: DeprecationWarning: find_element_by_* commands are deprecated. Please use find_element() instead\n",
      "  driver.find_element_by_id('loginForm_password').send_keys('Bilhao50')\n",
      "<ipython-input-30-0031c1af24f3>:15: DeprecationWarning: find_element_by_* commands are deprecated. Please use find_element() instead\n",
      "  driver.find_element_by_xpath('//*[@id=\"signup\"]/a').click()\n",
      "<ipython-input-30-0031c1af24f3>:16: DeprecationWarning: find_element_by_* commands are deprecated. Please use find_element() instead\n",
      "  driver.find_element_by_xpath('//*[@id=\"column-content\"]/div[4]/div/a').click()\n"
     ]
    }
   ],
   "source": [
    "from selenium import webdriver\n",
    "import time\n",
    "from selenium.webdriver.common.keys import Keys\n",
    "\n",
    "driver = webdriver.Chrome()\n",
    "driver.get('https://br.investing.com/currencies/usd-brl-historical-data')\n",
    "time.sleep(3)\n",
    "driver.find_element_by_id('onetrust-accept-btn-handler').click()\n",
    "time.sleep(1)\n",
    "driver.find_element_by_xpath('//*[@id=\"column-content\"]/div[4]/div/a').click()\n",
    "time.sleep(1)\n",
    "driver.find_element_by_id('loginFormUser_email').send_keys('carvalhodouglaspereira@gmail.com')\n",
    "driver.find_element_by_id('loginForm_password').send_keys('Bilhao50')\n",
    "time.sleep(1)\n",
    "driver.find_element_by_xpath('//*[@id=\"signup\"]/a').click()\n",
    "driver.find_element_by_xpath('//*[@id=\"column-content\"]/div[4]/div/a').click()"
   ]
  }
 ],
 "metadata": {
  "kernelspec": {
   "display_name": "Python 3",
   "language": "python",
   "name": "python3"
  },
  "language_info": {
   "codemirror_mode": {
    "name": "ipython",
    "version": 3
   },
   "file_extension": ".py",
   "mimetype": "text/x-python",
   "name": "python",
   "nbconvert_exporter": "python",
   "pygments_lexer": "ipython3",
   "version": "3.8.8"
  }
 },
 "nbformat": 4,
 "nbformat_minor": 5
}

{
 "cells": [
  {
   "cell_type": "markdown",
   "id": "0dd445e9",
   "metadata": {},
   "source": [
    "# Executando JS no Navegador (Scroll da tela)\n",
    "\n",
    "\n",
    "- Exemplo dar um Scroll Na tela para carregar os arquivos necessários"
   ]
  },
  {
   "cell_type": "code",
   "execution_count": 45,
   "id": "12e0be32",
   "metadata": {},
   "outputs": [
    {
     "name": "stderr",
     "output_type": "stream",
     "text": [
      "<ipython-input-45-744b80673b45>:9: DeprecationWarning: find_element_by_* commands are deprecated. Please use find_element() instead\n",
      "  driver.find_element_by_css_selector('input.ytd-searchbox').send_keys('python')\n",
      "<ipython-input-45-744b80673b45>:10: DeprecationWarning: find_element_by_* commands are deprecated. Please use find_element() instead\n",
      "  driver.find_element_by_css_selector('input.ytd-searchbox').send_keys(Keys.ENTER)\n"
     ]
    }
   ],
   "source": [
    "# PEGANDO UMA LISTA DE 50 VÍDEOS\n",
    "from selenium import webdriver\n",
    "from selenium.webdriver.common.keys import Keys\n",
    "import time\n",
    "\n",
    "driver = webdriver.Chrome()\n",
    "driver.get('https://youtube.com')\n",
    "time.sleep(10)\n",
    "driver.find_element_by_css_selector('input.ytd-searchbox').send_keys('python')\n",
    "driver.find_element_by_css_selector('input.ytd-searchbox').send_keys(Keys.ENTER)\n",
    "time.sleep(2)\n",
    "#Dar um scroll na pagina\n",
    "for i in range(20):\n",
    "    scroll = 1000 * i\n",
    "    driver.execute_script('window.scroll(0, scroll);')\n",
    "    time.sleep(5)\n",
    "    \n",
    "time.sleep(2)\n",
    "lista_videos = driver.find_elements_by_id('thumbnail')\n",
    "for i,video in enumerate(lista_videos):\n",
    "    print(i, video.get_attribute('href'))"
   ]
  }
 ],
 "metadata": {
  "kernelspec": {
   "display_name": "Python 3",
   "language": "python",
   "name": "python3"
  },
  "language_info": {
   "codemirror_mode": {
    "name": "ipython",
    "version": 3
   },
   "file_extension": ".py",
   "mimetype": "text/x-python",
   "name": "python",
   "nbconvert_exporter": "python",
   "pygments_lexer": "ipython3",
   "version": "3.8.8"
  }
 },
 "nbformat": 4,
 "nbformat_minor": 5
}

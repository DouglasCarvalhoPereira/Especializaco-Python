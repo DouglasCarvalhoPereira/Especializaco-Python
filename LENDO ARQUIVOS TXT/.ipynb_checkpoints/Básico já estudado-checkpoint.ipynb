{
 "cells": [
  {
   "cell_type": "markdown",
   "id": "2171665f",
   "metadata": {},
   "source": [
    "# Arquivos Txt | PDF e excel"
   ]
  },
  {
   "cell_type": "code",
   "execution_count": 7,
   "id": "6edbb636",
   "metadata": {},
   "outputs": [],
   "source": [
    "clientes = open('clientes.txt', 'r').read()\n",
    "novo_arquivo = open('novotxt.txt', 'w')\n",
    "novo_arquivo.write(clientes)\n",
    "novo_arquivo.close()"
   ]
  },
  {
   "cell_type": "code",
   "execution_count": 9,
   "id": "664ba2ba",
   "metadata": {},
   "outputs": [],
   "source": [
    "with open('arquivo_new.txt','w') as file:\n",
    "    file.write(clientes)"
   ]
  },
  {
   "cell_type": "code",
   "execution_count": null,
   "id": "bb336ddf",
   "metadata": {},
   "outputs": [],
   "source": []
  }
 ],
 "metadata": {
  "kernelspec": {
   "display_name": "Python 3",
   "language": "python",
   "name": "python3"
  },
  "language_info": {
   "codemirror_mode": {
    "name": "ipython",
    "version": 3
   },
   "file_extension": ".py",
   "mimetype": "text/x-python",
   "name": "python",
   "nbconvert_exporter": "python",
   "pygments_lexer": "ipython3",
   "version": "3.8.8"
  }
 },
 "nbformat": 4,
 "nbformat_minor": 5
}

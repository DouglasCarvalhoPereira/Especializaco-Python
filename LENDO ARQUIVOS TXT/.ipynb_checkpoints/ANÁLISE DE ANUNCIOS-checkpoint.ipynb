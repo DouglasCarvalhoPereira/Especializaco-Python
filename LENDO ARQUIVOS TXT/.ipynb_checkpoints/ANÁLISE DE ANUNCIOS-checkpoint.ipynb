{
 "cells": [
  {
   "cell_type": "markdown",
   "id": "8a7aa245",
   "metadata": {},
   "source": [
    "# Análise de arquivo TXT"
   ]
  },
  {
   "cell_type": "code",
   "execution_count": 101,
   "id": "f9182066",
   "metadata": {},
   "outputs": [
    {
     "name": "stdout",
     "output_type": "stream",
     "text": [
      "Anuncio: 276\n",
      "Organico: 226\n",
      "Youtube: 155\n",
      "Instagram: 24\n",
      "Site: 73\n"
     ]
    }
   ],
   "source": [
    "file = open('clientes.txt','r')\n",
    "linhas = file.readlines()\n",
    "del linhas[:4]\n",
    "\n",
    "#hashtag_yt_org\n",
    "#hashtag_site_org\n",
    "#hashtag_ig_org\n",
    "#hashtag_igfb_org\n",
    "\n",
    "\n",
    "qt_anuncios = 0\n",
    "qt_org = 0\n",
    "qtd_yt_org = 0\n",
    "qtd_igfb = 0\n",
    "qtd_site_org = 0\n",
    "\n",
    "for linha in linhas:\n",
    "    if '_org' in linha:\n",
    "        qt_org += 1\n",
    "        if 'hashtag_yt_org'in linha:\n",
    "            qtd_yt_org+=1\n",
    "        if 'hashtag_site_org' in linha:\n",
    "            qtd_site_org+=1\n",
    "        if 'hashtag_ig_org' in linha or 'hashtag_igfb_org' in linha:\n",
    "            qtd_igfb+=1            \n",
    "    else:\n",
    "        qt_anuncios += 1\n",
    "        \n",
    "with open('indicators.txt','w') as file2:\n",
    "    file2.write(\"Anuncio: {}\\n\".format(qt_anuncios))\n",
    "    file2.write(\"Organico: {}\\n\".format(qt_org))\n",
    "    file2.write(\"Youtube: {}\\n\".format(qtd_yt_org))\n",
    "    file2.write(\"Instagram: {}\\n\".format(qtd_igfb))\n",
    "    file2.write(\"Site: {}\\n\".format(qtd_site_org))\n",
    "file2.close()\n",
    "\n",
    "                    \n",
    "                \n",
    "print(\"Anuncio: {}\".format(qt_anuncios))  \n",
    "print(\"Organico: {}\".format(qt_org))\n",
    "print(\"Youtube: {}\".format(qtd_yt_org))\n",
    "print(\"Instagram: {}\".format(qtd_igfb))\n",
    "print(\"Site: {}\".format(qtd_site_org))\n",
    "    \n",
    "    "
   ]
  },
  {
   "cell_type": "code",
   "execution_count": null,
   "id": "a3c54fb6",
   "metadata": {},
   "outputs": [],
   "source": []
  }
 ],
 "metadata": {
  "kernelspec": {
   "display_name": "Python 3",
   "language": "python",
   "name": "python3"
  },
  "language_info": {
   "codemirror_mode": {
    "name": "ipython",
    "version": 3
   },
   "file_extension": ".py",
   "mimetype": "text/x-python",
   "name": "python",
   "nbconvert_exporter": "python",
   "pygments_lexer": "ipython3",
   "version": "3.8.8"
  }
 },
 "nbformat": 4,
 "nbformat_minor": 5
}

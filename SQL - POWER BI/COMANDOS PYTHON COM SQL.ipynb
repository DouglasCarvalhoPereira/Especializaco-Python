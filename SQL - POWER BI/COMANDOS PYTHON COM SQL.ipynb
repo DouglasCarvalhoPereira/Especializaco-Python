{
 "cells": [
  {
   "cell_type": "markdown",
   "id": "771b72a4",
   "metadata": {},
   "source": [
    "# Instegração PYTHON SQL\n",
    "\n",
    "### Objetivo \n",
    "\n",
    "A intergação do Python com o SQL permite que execute comandos SQL diretamente pelo Python no banco de dadis . Isso vai permitir  gente pegar consultas e já importar elas para dentro de uma análise no Python automaticamente\n",
    "\n",
    "- Usando SQL Server Gratuito\n",
    "\n",
    "### Biblioteca usada em Python\n",
    "\n",
    "Usaremos 'pyodbc' compátivel com os banco de dados mais utilizados do mercado.\n",
    "\n",
    "- pyodbc\n"
   ]
  },
  {
   "cell_type": "markdown",
   "id": "dfadf92c",
   "metadata": {},
   "source": [
    "### Criar conexão com banco de dados"
   ]
  },
  {
   "cell_type": "code",
   "execution_count": null,
   "id": "d036fa6c",
   "metadata": {},
   "outputs": [],
   "source": []
  }
 ],
 "metadata": {
  "kernelspec": {
   "display_name": "Python 3",
   "language": "python",
   "name": "python3"
  },
  "language_info": {
   "codemirror_mode": {
    "name": "ipython",
    "version": 3
   },
   "file_extension": ".py",
   "mimetype": "text/x-python",
   "name": "python",
   "nbconvert_exporter": "python",
   "pygments_lexer": "ipython3",
   "version": "3.8.8"
  }
 },
 "nbformat": 4,
 "nbformat_minor": 5
}

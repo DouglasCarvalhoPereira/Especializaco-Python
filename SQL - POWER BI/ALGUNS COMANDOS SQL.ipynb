{
 "cells": [
  {
   "cell_type": "markdown",
   "id": "7fe44837",
   "metadata": {},
   "source": [
    "# COMANDOS SQL\n",
    "\n",
    "-- <= inseridndo ifen 2x é comentário no SQL\n",
    "\n",
    "-- O código abaixo seletiona a tabela e as colunas"
   ]
  },
  {
   "cell_type": "markdown",
   "id": "348b17c8",
   "metadata": {},
   "source": [
    "# Select - > Seleciona a tabela\n",
    "1. #* - > Tabela toda\n",
    "2. #from - > Seguido do nome da tabela\n",
    "3. #No lugar de * pode-se dizer o nome das colunas seguido por virgula\n",
    "\n",
    "- select * from DimProduct\n",
    "- select Name, BrandName, UnitPrice from DimProduct"
   ]
  },
  {
   "cell_type": "markdown",
   "id": "0fdff6a5",
   "metadata": {},
   "source": [
    "# Alterando nome das tabelas"
   ]
  },
  {
   "cell_type": "markdown",
   "id": "bfdbfe8b",
   "metadata": {},
   "source": [
    "1. -- Renomeando o nome das colunas\n",
    "- select Name as 'NOME', BrandName as 'DESCRICAO LOJA', UnitPrice from DimProduct"
   ]
  },
  {
   "cell_type": "markdown",
   "id": "3797fae3",
   "metadata": {},
   "source": [
    "# Criando Filtros "
   ]
  },
  {
   "cell_type": "markdown",
   "id": "b96b8356",
   "metadata": {},
   "source": [
    "1. -- Para filtros use 'where'\n",
    "\n",
    "- select * from DimProdutc\n",
    "- where BrandName = 'Litware'\n",
    "- where BrandName = 'Deluxe'"
   ]
  },
  {
   "cell_type": "markdown",
   "id": "d30a458f",
   "metadata": {},
   "source": [
    "# Comando WHERE com AND"
   ]
  },
  {
   "cell_type": "markdown",
   "id": "de329bf7",
   "metadata": {},
   "source": [
    "- select\n",
    "  PriceProdutc,\n",
    "  Name,\n",
    "  Catrgory\n",
    "  from DimProduct\n",
    "  \n",
    "- where Name='Deluxe' or Name='Litware'\n",
    "- where Name='Deluxe' and Name='Litware'"
   ]
  },
  {
   "cell_type": "markdown",
   "id": "3b615b3f",
   "metadata": {},
   "source": [
    "# Usando FILTROS com FILTROS MAIORES"
   ]
  },
  {
   "cell_type": "markdown",
   "id": "ecdc9e91",
   "metadata": {},
   "source": [
    "- select\n",
    "  PriceProdutc,\n",
    "  Name,\n",
    "  Category\n",
    "  from DimProduct\n",
    "  \n",
    "- where (Name='Deluxe' or Name='Litware') and Category='Cel'\n",
    "- where Name='Deluxe'and Name='Litware'"
   ]
  },
  {
   "cell_type": "markdown",
   "id": "9247ea67",
   "metadata": {},
   "source": [
    "# Selecionando produto mais caro\n",
    "Dizendo a coluna e tabela e recebendo o maior valor."
   ]
  },
  {
   "cell_type": "markdown",
   "id": "26d9c16d",
   "metadata": {},
   "source": [
    "- select max(Prace) from DimProduct"
   ]
  }
 ],
 "metadata": {
  "kernelspec": {
   "display_name": "Python 3",
   "language": "python",
   "name": "python3"
  },
  "language_info": {
   "codemirror_mode": {
    "name": "ipython",
    "version": 3
   },
   "file_extension": ".py",
   "mimetype": "text/x-python",
   "name": "python",
   "nbconvert_exporter": "python",
   "pygments_lexer": "ipython3",
   "version": "3.8.8"
  }
 },
 "nbformat": 4,
 "nbformat_minor": 5
}

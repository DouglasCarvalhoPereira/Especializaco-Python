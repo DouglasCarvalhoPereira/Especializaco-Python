{
 "cells": [
  {
   "cell_type": "markdown",
   "id": "bf21d6dc",
   "metadata": {},
   "source": [
    "# FUNCOES LAMBDA\n",
    "\n",
    "Funções de uma única função e pode ser chamada de função anônima.\n",
    "\n",
    "Funções lambda não possuem nomes, SÃO ATRIBUÍDAS DIRETAMENTE A VARIÁVEL (Umas das formas de usar)\n",
    "\n",
    "É atribuído a variável um *nome* a palavra reservada \"lambda\" o parametro seguido de dois pontos e a expressoa conforme o exemplo abaixo.\n",
    "\n",
    "nome_da_funcao = *lambda* parametro: expressao\n",
    "\n",
    "\n",
    "**Executa 1 linha de código e retorna o valor**"
   ]
  },
  {
   "cell_type": "code",
   "execution_count": 7,
   "id": "44b85489",
   "metadata": {},
   "outputs": [
    {
     "data": {
      "text/plain": [
       "20"
      ]
     },
     "execution_count": 7,
     "metadata": {},
     "output_type": "execute_result"
    }
   ],
   "source": [
    "def functionTeste(num):\n",
    "    return 2 * num\n",
    "\n",
    "functionTeste(10)"
   ]
  },
  {
   "cell_type": "markdown",
   "id": "725f5eaf",
   "metadata": {},
   "source": [
    "# Usando LAMBDA\n",
    "\n",
    "nome_da_funcao = *lambda* parametro: expressao\n"
   ]
  },
  {
   "cell_type": "code",
   "execution_count": 9,
   "id": "dccdfb62",
   "metadata": {},
   "outputs": [],
   "source": [
    "minha_funcao2 = lambda num: num * 2"
   ]
  },
  {
   "cell_type": "code",
   "execution_count": 12,
   "id": "28254e00",
   "metadata": {},
   "outputs": [
    {
     "data": {
      "text/plain": [
       "10"
      ]
     },
     "execution_count": 12,
     "metadata": {},
     "output_type": "execute_result"
    }
   ],
   "source": [
    "minha_funcao2(5) #Aqui a variável é chamada já como parâmetro e usada como funcao"
   ]
  },
  {
   "cell_type": "markdown",
   "id": "ff178147",
   "metadata": {},
   "source": [
    "# USANDO LAMBDA"
   ]
  },
  {
   "cell_type": "code",
   "execution_count": 13,
   "id": "0c8eb639",
   "metadata": {},
   "outputs": [],
   "source": [
    "#Exemplo de funcao\n",
    "imposto = 0.3\n",
    "def preco_imposto(preco):\n",
    "    return preco * ( 1 + 0.3)\n",
    "\n",
    "#Usando lambda\n",
    "preco_imposto2 = lambda preco: preco * (1 + imposto)"
   ]
  },
  {
   "cell_type": "code",
   "execution_count": 18,
   "id": "98c7988f",
   "metadata": {},
   "outputs": [
    {
     "data": {
      "text/plain": [
       "2.6"
      ]
     },
     "execution_count": 18,
     "metadata": {},
     "output_type": "execute_result"
    }
   ],
   "source": [
    "preco_imposto(2)"
   ]
  },
  {
   "cell_type": "code",
   "execution_count": 19,
   "id": "91fb9a55",
   "metadata": {},
   "outputs": [
    {
     "data": {
      "text/plain": [
       "2.6"
      ]
     },
     "execution_count": 19,
     "metadata": {},
     "output_type": "execute_result"
    }
   ],
   "source": [
    "preco_imposto2(2)"
   ]
  },
  {
   "cell_type": "markdown",
   "id": "fef624e7",
   "metadata": {},
   "source": [
    "#  Principal Aplicação LAMBDA\n",
    "\n",
    "Principal utilização é usar uma função dentro de um método que já existe. Exemplo map() sort() e etc...\n",
    "\n",
    "Métodos que aceitam funções como parametro.\n"
   ]
  },
  {
   "cell_type": "code",
   "execution_count": 20,
   "id": "114c38df",
   "metadata": {},
   "outputs": [],
   "source": [
    "preco_tecnologia = {'notebook asus': 2450, 'iphone': 4500, 'samsung galaxy': 3000, 'tv samsung': 1000, 'ps5': 3000, 'tablet': 1000, 'notebook dell': 3000, 'ipad': 3000, 'tv philco': 800, 'notebook hp': 1700}"
   ]
  },
  {
   "cell_type": "code",
   "execution_count": 66,
   "id": "1bb98079",
   "metadata": {},
   "outputs": [
    {
     "name": "stdout",
     "output_type": "stream",
     "text": [
      "[3185.0, 5850.0, 3900.0, 1300.0, 3900.0, 1300.0, 3900.0, 3900.0, 1040.0, 2210.0]\n"
     ]
    }
   ],
   "source": [
    "calcular_imposto1 = lambda valor: valor * 1.3\n",
    "preco_cImposto = list(map(calcular_imposto1, preco_tecnologia.values()))\n",
    "\n",
    "print(preco_cImposto)"
   ]
  },
  {
   "cell_type": "markdown",
   "id": "b77d640b",
   "metadata": {},
   "source": [
    "# Function filter()\n",
    "\n",
    "A função filter() filtra um interable.\n",
    "\n",
    "Ao invés de ter todos os valores, temos apenas aqueles que atendem a uma determinada condição.\n",
    "\n",
    "\n",
    "Essa função retorna **TRUE** ou **FALSE**, ela faz uma comparação"
   ]
  },
  {
   "cell_type": "code",
   "execution_count": 43,
   "id": "d439edfc",
   "metadata": {},
   "outputs": [
    {
     "name": "stdout",
     "output_type": "stream",
     "text": [
      "{'notebook asus': 2450, 'iphone': 4500, 'samsung galaxy': 3000, 'ps5': 3000, 'notebook dell': 3000, 'ipad': 3000}\n"
     ]
    }
   ],
   "source": [
    "preco_tecnologia2 = {'notebook asus': 2450, 'iphone': 4500, 'samsung galaxy': 3000, 'tv samsung': 1000, 'ps5': 3000, 'tablet': 1000, 'notebook dell': 3000, 'ipad': 3000, 'tv philco': 800, 'notebook hp': 1700}\n",
    "maior2k = lambda valor2: valor2 > 2000\n",
    "produtos_acima_2k = dict(list(filter(lambda item: item[1] > 2000, preco_tecnologia2.items())))\n",
    "print(produtos_acima_2k)"
   ]
  },
  {
   "cell_type": "markdown",
   "id": "31fb8259",
   "metadata": {},
   "source": [
    "# LAMBDA expression para gerar funcoes\n",
    "\n",
    "Além de aplicada com parametro de outros métodos também podem ser usadas com geradoras de funcoes"
   ]
  },
  {
   "cell_type": "code",
   "execution_count": 110,
   "id": "7b1af3ed",
   "metadata": {},
   "outputs": [],
   "source": [
    "def calc_imposto(impo):\n",
    "    return lambda preco: preco * (1 + impo)\n",
    "\n",
    "\n",
    "calcular_produto = calc_imposto(0.1)\n",
    "calcular_servico = calc_imposto(0.15)\n",
    "calcular_royalties = calc_imposto(0.25)"
   ]
  },
  {
   "cell_type": "code",
   "execution_count": 114,
   "id": "f74a67fe",
   "metadata": {},
   "outputs": [
    {
     "name": "stdout",
     "output_type": "stream",
     "text": [
      "110.00000000000001\n",
      "103.49999999999999\n",
      "100.0\n"
     ]
    }
   ],
   "source": [
    "print(calcular_produto(100))\n",
    "print(calcular_servico(90))\n",
    "print(calcular_royalties(80))"
   ]
  },
  {
   "cell_type": "code",
   "execution_count": null,
   "id": "306463a1",
   "metadata": {},
   "outputs": [],
   "source": []
  },
  {
   "cell_type": "code",
   "execution_count": null,
   "id": "12b2a9c4",
   "metadata": {},
   "outputs": [],
   "source": []
  }
 ],
 "metadata": {
  "kernelspec": {
   "display_name": "Python 3",
   "language": "python",
   "name": "python3"
  },
  "language_info": {
   "codemirror_mode": {
    "name": "ipython",
    "version": 3
   },
   "file_extension": ".py",
   "mimetype": "text/x-python",
   "name": "python",
   "nbconvert_exporter": "python",
   "pygments_lexer": "ipython3",
   "version": "3.8.8"
  }
 },
 "nbformat": 4,
 "nbformat_minor": 5
}

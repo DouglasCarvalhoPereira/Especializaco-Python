{
 "cells": [
  {
   "cell_type": "markdown",
   "id": "8f8c8370",
   "metadata": {},
   "source": [
    "# Functions and Interables\n",
    "\n",
    "Algumas funções podem rodar para cada item de uma lista da mesma forma que fazemos com o comprehension\n",
    "\n",
    "## FUNCTION: map()\n",
    "lista = list(map(funcao, interable_original))"
   ]
  },
  {
   "cell_type": "code",
   "execution_count": 2,
   "id": "c645e3dc",
   "metadata": {},
   "outputs": [],
   "source": [
    "def padroniza_texto(texto):\n",
    "    texto = texto.casefold()\n",
    "    texto = texto.upper()\n",
    "    texto = texto.strip()\n",
    "    return texto"
   ]
  },
  {
   "cell_type": "markdown",
   "id": "2193f99a",
   "metadata": {},
   "source": [
    "# Usando for"
   ]
  },
  {
   "cell_type": "code",
   "execution_count": 6,
   "id": "a25d5db3",
   "metadata": {},
   "outputs": [
    {
     "name": "stdout",
     "output_type": "stream",
     "text": [
      "['ABC12', 'ABC34', 'ABC37', 'BEB12', 'BSA151', 'BEB23']\n"
     ]
    }
   ],
   "source": [
    "produtos = [' ABC12 ', 'abc34', 'AbC37', 'beb12', ' BSA151', 'BEB23']\n",
    "\n",
    "for i, produto in enumerate(produtos):\n",
    "    produtos[i] = padroniza_texto(produto)\n",
    "\n",
    "print(produtos)\n"
   ]
  },
  {
   "cell_type": "markdown",
   "id": "5324410f",
   "metadata": {},
   "source": [
    "# Usando map()\n",
    "Para aplicar uma função em cada item da lista"
   ]
  },
  {
   "cell_type": "code",
   "execution_count": 7,
   "id": "c048e0d5",
   "metadata": {},
   "outputs": [
    {
     "name": "stdout",
     "output_type": "stream",
     "text": [
      "['ABC12', 'ABC34', 'ABC37', 'BEB12', 'BSA151', 'BEB23']\n"
     ]
    }
   ],
   "source": [
    "produtos = list(map(padroniza_texto, produtos))\n",
    "print(produtos)"
   ]
  },
  {
   "cell_type": "code",
   "execution_count": null,
   "id": "0fd09347",
   "metadata": {},
   "outputs": [],
   "source": []
  }
 ],
 "metadata": {
  "kernelspec": {
   "display_name": "Python 3",
   "language": "python",
   "name": "python3"
  },
  "language_info": {
   "codemirror_mode": {
    "name": "ipython",
    "version": 3
   },
   "file_extension": ".py",
   "mimetype": "text/x-python",
   "name": "python",
   "nbconvert_exporter": "python",
   "pygments_lexer": "ipython3",
   "version": "3.8.8"
  }
 },
 "nbformat": 4,
 "nbformat_minor": 5
}

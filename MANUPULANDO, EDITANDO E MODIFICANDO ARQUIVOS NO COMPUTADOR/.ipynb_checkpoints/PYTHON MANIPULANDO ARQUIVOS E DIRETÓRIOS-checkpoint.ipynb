{
 "cells": [
  {
   "cell_type": "markdown",
   "id": "740af1ac",
   "metadata": {},
   "source": [
    "# PYTHON E ARQUIVOS DO COMPUTADOR"
   ]
  },
  {
   "cell_type": "markdown",
   "id": "144d2048",
   "metadata": {},
   "source": [
    "### Módulos utilizados\n",
    "\n",
    "1. import os\n",
    "2. import pathlib\n",
    "3. import shutil"
   ]
  },
  {
   "cell_type": "markdown",
   "id": "cf503301",
   "metadata": {},
   "source": [
    "### Lisar todos os arquivos de uma pasta"
   ]
  },
  {
   "cell_type": "code",
   "execution_count": 47,
   "id": "59675e45",
   "metadata": {},
   "outputs": [],
   "source": [
    "from pathlib import Path\n",
    "\n",
    "dir_atual = Path.cwd() #Diretório atual\n",
    "#Define o caminho da pasta com Path(), passar o caminho ou pasta localizada no diretório atual\n",
    "caminho = Path('Arquivos_Lojas').iterdir()\n",
    "#Verficar todos os arquivos dentro do diretório iterdir()\n",
    "#for path in caminho:\n",
    "#    print(path)"
   ]
  },
  {
   "cell_type": "markdown",
   "id": "e9f46812",
   "metadata": {},
   "source": [
    "### Verificando se um arquivo existe"
   ]
  },
  {
   "cell_type": "code",
   "execution_count": 58,
   "id": "c6c10cd5",
   "metadata": {},
   "outputs": [
    {
     "name": "stdout",
     "output_type": "stream",
     "text": [
      "EXISTE\n"
     ]
    }
   ],
   "source": [
    "if Path('Arquivos_Lojas/201801_Shopping Cidade_MG.csv').exists():\n",
    "    print('EXISTE')"
   ]
  },
  {
   "cell_type": "markdown",
   "id": "1f0c08dc",
   "metadata": {},
   "source": [
    "### Criar um pasta nova"
   ]
  },
  {
   "cell_type": "code",
   "execution_count": 67,
   "id": "11812b7b",
   "metadata": {},
   "outputs": [],
   "source": [
    "Path('Pasta Auxiliar/Pasta2').mkdir() #Passando caminhos é possível ir criando uma pasta dentro da outra"
   ]
  },
  {
   "cell_type": "markdown",
   "id": "1542722c",
   "metadata": {},
   "source": [
    "### Copiando e colocando arquivos"
   ]
  },
  {
   "cell_type": "code",
   "execution_count": 69,
   "id": "b84d1f03",
   "metadata": {},
   "outputs": [
    {
     "data": {
      "text/plain": [
       "WindowsPath('Pasta Auxiliar/copy2.csv')"
      ]
     },
     "execution_count": 69,
     "metadata": {},
     "output_type": "execute_result"
    }
   ],
   "source": [
    "#Copiando e colocando arquivos\n",
    "import shutil\n",
    "arquivo_copy = Path('Arquivos_Lojas/201801_Shopping Cidade_MG.csv')\n",
    "arquivo_colar = Path('Pasta Auxiliar/copy2.csv')\n",
    "shutil.copy2(arquivo_copy, arquivo_colar)"
   ]
  },
  {
   "cell_type": "markdown",
   "id": "261311ab",
   "metadata": {},
   "source": [
    "### Movendo arquivos"
   ]
  },
  {
   "cell_type": "code",
   "execution_count": 73,
   "id": "b1474400",
   "metadata": {},
   "outputs": [
    {
     "data": {
      "text/plain": [
       "WindowsPath('Pasta Auxiliar/201801_Shopping Cidade_MG.csv')"
      ]
     },
     "execution_count": 73,
     "metadata": {},
     "output_type": "execute_result"
    }
   ],
   "source": [
    "caminho_arquivo = Path('Arquivos_Lojas/201801_Shopping Cidade_MG.csv')\n",
    "caminho_mover = Path('Pasta Auxiliar/201801_Shopping Cidade_MG.csv')\n",
    "shutil.move(caminho_arquivo, caminho_mover)"
   ]
  },
  {
   "cell_type": "markdown",
   "id": "35c7ad34",
   "metadata": {},
   "source": [
    "### Criando pastas e organizando arquivos"
   ]
  },
  {
   "cell_type": "code",
   "execution_count": 77,
   "id": "ad2c5c1e",
   "metadata": {},
   "outputs": [],
   "source": [
    "from pathlib import Path\n",
    "import shutil\n",
    "\n",
    "estados = ['AM','GO','MG','RJ','SP']\n",
    "for estado in estados:\n",
    "    Path('Arquivos_Lojas/{}'.format(estado))"
   ]
  }
 ],
 "metadata": {
  "kernelspec": {
   "display_name": "Python 3",
   "language": "python",
   "name": "python3"
  },
  "language_info": {
   "codemirror_mode": {
    "name": "ipython",
    "version": 3
   },
   "file_extension": ".py",
   "mimetype": "text/x-python",
   "name": "python",
   "nbconvert_exporter": "python",
   "pygments_lexer": "ipython3",
   "version": "3.8.8"
  }
 },
 "nbformat": 4,
 "nbformat_minor": 5
}

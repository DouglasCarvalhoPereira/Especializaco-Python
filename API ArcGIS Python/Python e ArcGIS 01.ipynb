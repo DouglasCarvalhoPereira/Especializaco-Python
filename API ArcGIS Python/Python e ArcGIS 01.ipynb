{
 "cells": [
  {
   "cell_type": "markdown",
   "id": "57348454",
   "metadata": {},
   "source": [
    "# Integração Python e ArcGIS\n",
    "\n",
    "#### O que é?\n",
    "\n",
    "- É na verdade uma API que o ArcGIS fornece para usar o Python para acessar as funcionalidades do ArcGis.\n",
    "- O ArcGis consegue criar mapas interativos e cm vários tipos de dados dinâmicos\n",
    "\n",
    "\n",
    "### Como vamos usar?\n",
    "\n",
    "Consultando a API o tempo todo, afinal tem tudo pronto na API do ArcGIS para a gente, então não precisamos decorar.\n",
    "\n",
    "Link da API: https://developers.arcgis.com/python/guide/install-and-set-up/\n",
    "\n",
    "\n",
    "### O que precisamos?\n",
    "\n",
    "Como é uma API que exige conta, deveremos criar a nosa conta e pegar as informações de login necessárias para a API. Além disso, o ArcGIS é um programa pago, mas fornece algumas funcionalidades gratuitas em teste, o que usaremos para aprender.\n",
    "\n",
    "\n",
    "#### Problema: o ArcGIS não funciona com todas as versões do Python, vamos precisar usar a 3.6\n",
    "\n",
    "Para isso, vamos criar um ambiente virtual com o Python 3.6"
   ]
  },
  {
   "cell_type": "markdown",
   "id": "d9be2ad9",
   "metadata": {},
   "source": [
    "1. Instalar o ArcGIS com o conda\n",
    "\n",
    "Comando: conda install -c esri arcgis"
   ]
  },
  {
   "cell_type": "markdown",
   "id": "2f32b33e",
   "metadata": {},
   "source": [
    "2. Conectar a API"
   ]
  }
 ],
 "metadata": {
  "kernelspec": {
   "display_name": "Python 3",
   "language": "python",
   "name": "python3"
  },
  "language_info": {
   "codemirror_mode": {
    "name": "ipython",
    "version": 3
   },
   "file_extension": ".py",
   "mimetype": "text/x-python",
   "name": "python",
   "nbconvert_exporter": "python",
   "pygments_lexer": "ipython3",
   "version": "3.8.8"
  }
 },
 "nbformat": 4,
 "nbformat_minor": 5
}

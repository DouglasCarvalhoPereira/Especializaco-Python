{
 "cells": [
  {
   "cell_type": "markdown",
   "id": "74ca6749",
   "metadata": {},
   "source": [
    "# CONSULTANDO CNPJ\n",
    "\n",
    "Microserviços\n",
    "\n",
    "https://www.cnpj.ws/\n",
    "\n",
    "https://www.youtube.com/watch?v=C4zxOSsFaco"
   ]
  },
  {
   "cell_type": "code",
   "execution_count": 13,
   "id": "1a33bce6",
   "metadata": {
    "scrolled": true
   },
   "outputs": [
    {
     "name": "stdout",
     "output_type": "stream",
     "text": [
      "Digite o CNPJ: 42485653000158\n",
      "abertura :  27/06/2021\n",
      "situacao :  ATIVA\n",
      "tipo :  MATRIZ\n",
      "nome :  LUCAS EVANGELISTA PEREIRA JUNIOR 15344227736\n",
      "fantasia :  BURGER SNACKS\n",
      "porte :  MICRO EMPRESA\n",
      "natureza_juridica :  213-5 - Empresário (Individual)\n",
      "atividade_principal :  [{'code': '56.11-2-03', 'text': 'Lanchonetes, casas de chá, de sucos e similares'}]\n",
      "atividades_secundarias :  [{'code': '47.23-7-00', 'text': 'Comércio varejista de bebidas'}]\n",
      "logradouro :  RUA AGAPANTOS\n",
      "numero :  194\n",
      "complemento :  CASA LUCAS JUNIOR\n",
      "municipio :  VOLTA REDONDA\n",
      "bairro :  AGUA LIMPA\n",
      "uf :  RJ\n",
      "cep :  27.250-280\n",
      "email :  lucaspppppp807@gmail.com\n",
      "telefone :  (24) 3366-7346\n",
      "data_situacao :  27/06/2021\n",
      "cnpj :  42.485.653/0001-58\n",
      "ultima_atualizacao :  2021-10-14T23:59:59.000Z\n",
      "status :  OK\n",
      "efr :  \n",
      "motivo_situacao :  \n",
      "situacao_especial :  \n",
      "data_situacao_especial :  \n",
      "capital_social :  5000.00\n",
      "qsa :  []\n",
      "extra :  {}\n",
      "billing :  {'free': True, 'database': True}\n"
     ]
    }
   ],
   "source": [
    "import requests\n",
    "import json\n",
    "#42485653000158\n",
    "\n",
    "cnpj = int(input('Digite o CNPJ: '))\n",
    "link = f'https://www.receitaws.com.br/v1/cnpj/{cnpj}'\n",
    "\n",
    "requisicao = requests.get(link).json()\n",
    "for date in requisicao.items():\n",
    "    title, situation = date\n",
    "    print(date[0], ': ', date[1])"
   ]
  }
 ],
 "metadata": {
  "kernelspec": {
   "display_name": "Python 3",
   "language": "python",
   "name": "python3"
  },
  "language_info": {
   "codemirror_mode": {
    "name": "ipython",
    "version": 3
   },
   "file_extension": ".py",
   "mimetype": "text/x-python",
   "name": "python",
   "nbconvert_exporter": "python",
   "pygments_lexer": "ipython3",
   "version": "3.8.8"
  }
 },
 "nbformat": 4,
 "nbformat_minor": 5
}

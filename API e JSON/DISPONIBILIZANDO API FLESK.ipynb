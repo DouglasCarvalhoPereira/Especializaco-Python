{
 "cells": [
  {
   "cell_type": "markdown",
   "id": "f689836f",
   "metadata": {},
   "source": [
    "# API COM FLESK\n",
    "\n",
    "- https://flask.palletsprojects.com/en/2.0.x/\n",
    "- https://economia.awesomeapi.com.br/json/daily/USD-BRL/15\n",
    "\n",
    "##### API FORNECIDA POR\n",
    "- https://replit.com/\n",
    "\n",
    "\n",
    "Sempre usado #decorator e #função"
   ]
  },
  {
   "cell_type": "code",
   "execution_count": null,
   "id": "a4bdfc4f",
   "metadata": {},
   "outputs": [
    {
     "name": "stdout",
     "output_type": "stream",
     "text": [
      " * Serving Flask app \"__main__\" (lazy loading)\n",
      " * Environment: production\n",
      "   WARNING: This is a development server. Do not use it in a production deployment.\n",
      "   Use a production WSGI server instead.\n",
      " * Debug mode: off\n"
     ]
    },
    {
     "name": "stderr",
     "output_type": "stream",
     "text": [
      " * Running on http://127.0.0.1:5000/ (Press CTRL+C to quit)\n"
     ]
    }
   ],
   "source": [
    "from flask import Flask\n",
    "\n",
    "app = Flask(__name__)\n",
    "\n",
    "@app.route(\"/\") #Decorator -> Diz em qual link a função vai rodar\n",
    "def hello_world(): #função\n",
    "    return f\"<h1>Resultado: {resultado}</h1>\"\n",
    "\n",
    "@app.route(\"/pagina2\") #Decorator -> Diz em qual link a função vai rodar\n",
    "def pagina2(resultado = ''): #função\n",
    "    return {'Teste': 'Api fornecida'}\n",
    "\n",
    "@app.route(\"/pagina3\") #Decorator -> Diz em qual link a função vai rodar\n",
    "def pagina3(resultado = ''): #função\n",
    "    return {'Fornecendo': 'Dados via API'}\n",
    "\n",
    "app.run() #Coloca no ar #Para colocar em uma aplicação deve ter parametros app.run(host='0.0.0.0')"
   ]
  },
  {
   "cell_type": "code",
   "execution_count": null,
   "id": "39e39c78",
   "metadata": {},
   "outputs": [],
   "source": [
    "from flask import Flask\n",
    "import pandas as pd\n",
    "\n",
    "app = Flask(__name__)\n",
    "tabela = pd.read_excel('produtos.xlsx')\n",
    "\n",
    "@app.route(\"/\") #Decorator -> Diz em qual link a função vai rodar\n",
    "def consulta_cep(): #função\n",
    "  tabelax = tabela[['Preco Base Reais']].sum()\n",
    "  resultado = tabelax.to_dict()\n",
    "  return resultado\n",
    "\n",
    "@app.route(\"/<produto>\") #Decorator -> Diz em qual link a função vai rodar\n",
    "def consulta_estado(produto): #função\n",
    "  tabelaP = tabela[['Produtos','Preco Base Reais']].groupby('Produtos').sum()\n",
    "  if produto in tabelaP.index:\n",
    "    loc_estado = tabelaP.loc[produto].to_dict()\n",
    "    return loc_estado\n",
    "  else:\n",
    "    return {produto: 'Inexistente'}\n",
    "\n",
    "app.run() #(host='0.0.0.0') #Coloca no ar #Para colocar em uma aplicação deve ter parametros app.run(host='0.0.0.0')"
   ]
  }
 ],
 "metadata": {
  "kernelspec": {
   "display_name": "Python 3",
   "language": "python",
   "name": "python3"
  },
  "language_info": {
   "codemirror_mode": {
    "name": "ipython",
    "version": 3
   },
   "file_extension": ".py",
   "mimetype": "text/x-python",
   "name": "python",
   "nbconvert_exporter": "python",
   "pygments_lexer": "ipython3",
   "version": "3.8.8"
  }
 },
 "nbformat": 4,
 "nbformat_minor": 5
}

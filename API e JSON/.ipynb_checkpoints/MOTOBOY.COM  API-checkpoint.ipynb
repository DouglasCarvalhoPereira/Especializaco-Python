{
 "cells": [
  {
   "cell_type": "markdown",
   "id": "a75b2679",
   "metadata": {},
   "source": [
    "# API Motoboy.com\n",
    "\n",
    "https://motoboycomv2.docs.apiary.io/#introduction/autenticacao"
   ]
  },
  {
   "cell_type": "code",
   "execution_count": 16,
   "id": "fd9ee006",
   "metadata": {},
   "outputs": [
    {
     "name": "stdout",
     "output_type": "stream",
     "text": [
      "{'success': True, 'msg': '', 'locais': [{'cep': '27250280', 'rua': None, 'numero': None}, {'cep': '27277330', 'rua': None, 'numero': None}], 'valor': 20, 'distancia': 7.713, 'duracaoEstimadaMinutos': 60, 'horaTermino': '18:15', 'valorOriginal': 20, 'possuiDesconto': False, 'textoDesconto': ''}\n"
     ]
    }
   ],
   "source": [
    "import requests\n",
    "import json\n",
    "\n",
    "access_token = {\"access_token\": \"***\"}\n",
    "#27277330\n",
    "\n",
    "endereco1 = 27250280 #int(input('Digite o cep: '))\n",
    "endereco2 = 27277330 #int(input('Digite o cep: '))\n",
    "\n",
    "requisicao = requests.post(f'https://www.motoboy.com/apiV2/orcamento?cidade=rj%2Fvolta-redonda&endereco1_cep={endereco1}&endereco2_cep={endereco2}', headers=access_token).json()\n",
    "print(requisicao)"
   ]
  }
 ],
 "metadata": {
  "kernelspec": {
   "display_name": "Python 3",
   "language": "python",
   "name": "python3"
  },
  "language_info": {
   "codemirror_mode": {
    "name": "ipython",
    "version": 3
   },
   "file_extension": ".py",
   "mimetype": "text/x-python",
   "name": "python",
   "nbconvert_exporter": "python",
   "pygments_lexer": "ipython3",
   "version": "3.8.8"
  }
 },
 "nbformat": 4,
 "nbformat_minor": 5
}

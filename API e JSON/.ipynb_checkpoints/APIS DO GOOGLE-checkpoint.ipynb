{
 "cells": [
  {
   "cell_type": "markdown",
   "id": "827e658a",
   "metadata": {},
   "source": [
    "# API GOOGLE SHEETS"
   ]
  },
  {
   "cell_type": "markdown",
   "id": "501a15fb",
   "metadata": {},
   "source": [
    "https://developers.google.com/sheets/api/quickstart/python"
   ]
  },
  {
   "cell_type": "code",
   "execution_count": 62,
   "id": "f7b68a3f",
   "metadata": {
    "scrolled": true
   },
   "outputs": [
    {
     "name": "stdout",
     "output_type": "stream",
     "text": [
      "Conexão bem sucedida!\n",
      "Nome Cpf Telefone\n",
      "Tiago 143.456.784-39 2133434543\n",
      "Pedro 223.778.776-78 2133456665\n",
      "Joana 123.456.789-10 2488878878\n"
     ]
    }
   ],
   "source": [
    "from __future__ import print_function\n",
    "import os.path\n",
    "from googleapiclient.discovery import build\n",
    "from google_auth_oauthlib.flow import InstalledAppFlow\n",
    "from google.auth.transport.requests import Request\n",
    "from google.oauth2.credentials import Credentials\n",
    "\n",
    "# If modifying these scopes, delete the file token.json.\n",
    "SCOPES = ['https://www.googleapis.com/auth/spreadsheets']\n",
    "\n",
    "# The ID and range of a sample spreadsheet.\n",
    "SAMPLE_SPREADSHEET_ID = '1VNttCJgaxGNBSkNcmDLu8t4CjEaH9S6ZQSSzUDnCYZM'\n",
    "SAMPLE_RANGE_NAME = 'Página1!A1:C4'\n",
    "\n",
    "def main():\n",
    "    \"\"\"Shows basic usage of the Sheets API.\n",
    "    Prints values from a sample spreadsheet.\n",
    "    \"\"\"\n",
    "    creds = None\n",
    "    # The file token.json stores the user's access and refresh tokens, and is\n",
    "    # created automatically when the authorization flow completes for the first\n",
    "    # time.\n",
    "    if os.path.exists('token.json'):\n",
    "        creds = Credentials.from_authorized_user_file('token.json', SCOPES)\n",
    "    # If there are no (valid) credentials available, let the user log in.\n",
    "    if not creds or not creds.valid:\n",
    "        if creds and creds.expired and creds.refresh_token:\n",
    "            creds.refresh(Request())\n",
    "        else:\n",
    "            flow = InstalledAppFlow.from_client_secrets_file(\n",
    "                'credentials.json', SCOPES)\n",
    "            creds = flow.run_local_server(port=0)\n",
    "        # Save the credentials for the next run\n",
    "        with open('token.json', 'w') as token:\n",
    "            token.write(creds.to_json())\n",
    "\n",
    "    service = build('sheets', 'v4', credentials=creds)\n",
    "\n",
    "    # Call the Sheets API\n",
    "    sheet = service.spreadsheets()\n",
    "    result = sheet.values().get(spreadsheetId=SAMPLE_SPREADSHEET_ID, \n",
    "                                range=SAMPLE_RANGE_NAME).execute()\n",
    "    values = result.get('values', [])\n",
    "\n",
    "    if not values:\n",
    "        print('No data found.')\n",
    "    else:\n",
    "        print('Conexão bem sucedida!')\n",
    "        for row in values:\n",
    "            # Print columns A and E, which correspond to indices 0 and 4.\n",
    "            print('%s %s %s' % (row[0], row[1], row[2]))\n",
    "\n",
    "if __name__ == '__main__':\n",
    "    main()"
   ]
  },
  {
   "cell_type": "markdown",
   "id": "97109cfe",
   "metadata": {},
   "source": [
    "# Escrevendo na planilha"
   ]
  },
  {
   "cell_type": "code",
   "execution_count": 60,
   "id": "5231d919",
   "metadata": {},
   "outputs": [
    {
     "ename": "IndentationError",
     "evalue": "unexpected indent (<ipython-input-60-6eb628e0462d>, line 4)",
     "output_type": "error",
     "traceback": [
      "\u001b[1;36m  File \u001b[1;32m\"<ipython-input-60-6eb628e0462d>\"\u001b[1;36m, line \u001b[1;32m4\u001b[0m\n\u001b[1;33m    creds = None\u001b[0m\n\u001b[1;37m    ^\u001b[0m\n\u001b[1;31mIndentationError\u001b[0m\u001b[1;31m:\u001b[0m unexpected indent\n"
     ]
    }
   ],
   "source": [
    "values = [\n",
    "    [\n",
    "        'Faturamento: R$ 100.000,00'\n",
    "    ],\n",
    "    # Additional rows ...\n",
    "]\n",
    "body = {\n",
    "    'values': values\n",
    "}\n",
    "\n",
    "result = service.spreadsheets().values().append(\n",
    "    spreadsheetId='1VNttCJgaxGNBSkNcmDLu8t4CjEaH9S6ZQSSzUDnCYZM', range='Página1!C6',\n",
    "    valueInputOption=\"RAW\", body=body).execute()\n",
    "\n",
    "values = result.get('values', [])\n"
   ]
  }
 ],
 "metadata": {
  "kernelspec": {
   "display_name": "Python 3",
   "language": "python",
   "name": "python3"
  },
  "language_info": {
   "codemirror_mode": {
    "name": "ipython",
    "version": 3
   },
   "file_extension": ".py",
   "mimetype": "text/x-python",
   "name": "python",
   "nbconvert_exporter": "python",
   "pygments_lexer": "ipython3",
   "version": "3.8.8"
  }
 },
 "nbformat": 4,
 "nbformat_minor": 5
}

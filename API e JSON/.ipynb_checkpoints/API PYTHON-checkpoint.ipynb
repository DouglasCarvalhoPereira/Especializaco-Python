{
 "cells": [
  {
   "cell_type": "markdown",
   "id": "a48de343",
   "metadata": {},
   "source": [
    "# PYHTON e API"
   ]
  },
  {
   "cell_type": "markdown",
   "id": "9a498b39",
   "metadata": {},
   "source": [
    "### Pegar a Cotação de Todas as Moedas\n",
    "\n",
    "Ao consumir API ela é retornada em JSON na maioria das vezes. E com Python nós tratamos esses dados.\n",
    "1. Nesse modelo vamos usar a cotação de moedas! https://docs.awesomeapi.com.br/api-de-moedas\n",
    "\n",
    "- Para fazer requisões de API o python disponibiliza duas bibliotecas que são:\n",
    "    1. requests\n",
    "    2. json"
   ]
  },
  {
   "cell_type": "code",
   "execution_count": 8,
   "id": "95fe5a75",
   "metadata": {},
   "outputs": [
    {
     "name": "stdout",
     "output_type": "stream",
     "text": [
      "{'USD': {'code': 'USD', 'codein': 'BRL', 'name': 'Dólar Americano/Real Brasileiro', 'high': '5.614', 'low': '5.5215', 'varBid': '0.0561', 'pctChange': '1.01', 'bid': '5.6135', 'ask': '5.614', 'timestamp': '1637357400', 'create_date': '2021-11-19 18:30:00'}, 'USDT': {'code': 'USD', 'codein': 'BRLT', 'name': 'Dólar Americano/Real Brasileiro Turismo', 'high': '5.75', 'low': '5.665', 'varBid': '0.045', 'pctChange': '0.79', 'bid': '5.58', 'ask': '5.92', 'timestamp': '1637350620', 'create_date': '2021-11-19 16:37:00'}, 'CAD': {'code': 'CAD', 'codein': 'BRL', 'name': 'Dólar Canadense/Real Brasileiro', 'high': '4.4413', 'low': '4.3754', 'varBid': '0.0323', 'pctChange': '0.73', 'bid': '4.4404', 'ask': '4.4422', 'timestamp': '1637359196', 'create_date': '2021-11-19 18:59:56'}, 'GBP': {'code': 'GBP', 'codein': 'BRL', 'name': 'Libra Esterlina/Real Brasileiro', 'high': '7.5508', 'low': '7.4335', 'varBid': '0.0513', 'pctChange': '0.68', 'bid': '7.549', 'ask': '7.5514', 'timestamp': '1637359193', 'create_date': '2021-11-19 18:59:53'}, 'ARS': {'code': 'ARS', 'codein': 'BRL', 'name': 'Peso Argentino/Real Brasileiro', 'high': '0.0559', 'low': '0.055', 'varBid': '0.0006', 'pctChange': '1.08', 'bid': '0.0559', 'ask': '0.0559', 'timestamp': '1637357400', 'create_date': '2021-11-19 18:30:00'}, 'BTC': {'code': 'BTC', 'codein': 'BRL', 'name': 'Bitcoin/Real Brasileiro', 'high': '332.516', 'low': '312.5', 'varBid': '12653', 'pctChange': '3.96', 'bid': '332.101', 'ask': '332.516', 'timestamp': '1637367472', 'create_date': '2021-11-19 21:17:52'}, 'LTC': {'code': 'LTC', 'codein': 'BRL', 'name': 'Litecoin/Real Brasileiro', 'high': '1251', 'low': '1125.34', 'varBid': '96.45', 'pctChange': '8.38', 'bid': '1247.64', 'ask': '1249.8', 'timestamp': '1637367471', 'create_date': '2021-11-19 21:17:51'}, 'EUR': {'code': 'EUR', 'codein': 'BRL', 'name': 'Euro/Real Brasileiro', 'high': '6.3372', 'low': '6.2471', 'varBid': '0.0144', 'pctChange': '0.23', 'bid': '6.332', 'ask': '6.3337', 'timestamp': '1637359193', 'create_date': '2021-11-19 18:59:53'}, 'JPY': {'code': 'JPY', 'codein': 'BRL', 'name': 'Iene Japonês/Real Brasileiro', 'high': '0.04927', 'low': '0.04849', 'varBid': '0.0006', 'pctChange': '1.23', 'bid': '0.04922', 'ask': '0.04924', 'timestamp': '1637359185', 'create_date': '2021-11-19 18:59:45'}, 'CHF': {'code': 'CHF', 'codein': 'BRL', 'name': 'Franco Suíço/Real Brasileiro', 'high': '6.0464', 'low': '5.9623', 'varBid': '0.0473', 'pctChange': '0.79', 'bid': '6.0451', 'ask': '6.0476', 'timestamp': '1637359193', 'create_date': '2021-11-19 18:59:53'}, 'AUD': {'code': 'AUD', 'codein': 'BRL', 'name': 'Dólar Australiano/Real Brasileiro', 'high': '4.063', 'low': '4.0094', 'varBid': '0.0167', 'pctChange': '0.41', 'bid': '4.0586', 'ask': '4.0612', 'timestamp': '1637359197', 'create_date': '2021-11-19 18:59:57'}, 'CNY': {'code': 'CNY', 'codein': 'BRL', 'name': 'Yuan Chinês/Real Brasileiro', 'high': '0.8789', 'low': '0.8646', 'varBid': '0.0086', 'pctChange': '0.98', 'bid': '0.8789', 'ask': '0.879', 'timestamp': '1637357463', 'create_date': '2021-11-19 18:31:03'}, 'ILS': {'code': 'ILS', 'codein': 'BRL', 'name': 'Novo Shekel Israelense/Real Brasileiro', 'high': '1.8152', 'low': '1.7857', 'varBid': '0.0137', 'pctChange': '0.76', 'bid': '1.8151', 'ask': '1.8152', 'timestamp': '1637359025', 'create_date': '2021-11-19 18:57:05'}, 'ETH': {'code': 'ETH', 'codein': 'BRL', 'name': 'Ethereum/Real Brasileiro', 'high': '1200.21', 'low': '1200.21', 'varBid': '0', 'pctChange': '0', 'bid': '1440.25', 'ask': '16999.75', 'timestamp': '1610415652', 'create_date': '2021-01-11 22:40:52'}, 'XRP': {'code': 'XRP', 'codein': 'BRL', 'name': 'XRP/Real Brasileiro', 'high': '6.22', 'low': '5.72', 'varBid': '0.3', 'pctChange': '5.07', 'bid': '6.21', 'ask': '6.22', 'timestamp': '1637367473', 'create_date': '2021-11-19 21:17:53'}, 'DOGE': {'code': 'DOGE', 'codein': 'BRL', 'name': 'Dogecoin/Real Brasileiro', 'high': '1.32', 'low': '1.21', 'varBid': '0.08999998', 'pctChange': '7.32', 'bid': '1.32', 'ask': '1.32', 'timestamp': '1637366925', 'create_date': '2021-11-19 21:08:45'}}\n"
     ]
    }
   ],
   "source": [
    "import requests\n",
    "import json\n",
    "\n",
    "cotacao = requests.get('https://economia.awesomeapi.com.br/json/all')\n",
    "cotacoes_dic = cotacao.json()\n",
    "print(cotacoes_dic)"
   ]
  },
  {
   "cell_type": "markdown",
   "id": "83e12695",
   "metadata": {},
   "source": [
    "## Qual foi a última cotação do Dólar, Euro e Bitcoin"
   ]
  },
  {
   "cell_type": "code",
   "execution_count": 24,
   "id": "6cf57a78",
   "metadata": {},
   "outputs": [
    {
     "name": "stdout",
     "output_type": "stream",
     "text": [
      "Valor de compra Dolar: 5.6135\n",
      "Valor de compra Euro: 6.332\n",
      "Valor de compra Bitcoin: 332.101\n"
     ]
    }
   ],
   "source": [
    "print(f\"Valor de compra Dolar: {cotacoes_dic['USD']['bid']}\")\n",
    "print(f\"Valor de compra Euro: {cotacoes_dic['EUR']['bid']}\")\n",
    "print(f\"Valor de compra Bitcoin: {cotacoes_dic['BTC']['bid']}\")"
   ]
  },
  {
   "cell_type": "markdown",
   "id": "60e278d8",
   "metadata": {},
   "source": [
    "# Cotação dos últimos 30 dias do Dólar"
   ]
  },
  {
   "cell_type": "code",
   "execution_count": 33,
   "id": "fb3af516",
   "metadata": {},
   "outputs": [
    {
     "name": "stdout",
     "output_type": "stream",
     "text": [
      "Dia 1 - 5.2332\n",
      "Dia 2 - 5.0358\n",
      "Dia 3 - 5.5458\n",
      "Dia 4 - 5.6753\n",
      "Dia 5 - 5.5679\n",
      "Dia 6 - 5.6133\n",
      "Dia 7 - 5.5892\n",
      "Dia 8 - 5.6639\n",
      "Dia 9 - 5.7075\n",
      "Dia 10 - 5.7071\n",
      "Dia 11 - 5.6315\n",
      "Dia 12 - 5.7729\n",
      "Dia 13 - 5.7819\n",
      "Dia 14 - 5.7561\n",
      "Dia 15 - 5.6491\n",
      "Dia 16 - 5.6211\n",
      "Dia 17 - 5.5214\n",
      "Dia 18 - 5.5602\n",
      "Dia 19 - 5.5832\n",
      "Dia 20 - 5.6244\n",
      "Dia 21 - 5.6156\n",
      "Dia 22 - 5.5518\n",
      "Dia 23 - 5.5357\n",
      "Dia 24 - 5.672\n",
      "Dia 25 - 5.8025\n",
      "Dia 26 - 5.8755\n",
      "Dia 27 - 5.6908\n",
      "Dia 28 - 5.6693\n",
      "Dia 29 - 5.6193\n",
      "Dia 30 - 5.6761\n"
     ]
    }
   ],
   "source": [
    "\n",
    "cotacao_30dias_dolar = requests.get('https://economia.awesomeapi.com.br/json/daily/USD-BRL/30')\n",
    "cotacoes_30_days_dic = cotacao_30dias_dolar.json()\n",
    "\n",
    "for i,day in enumerate(cotacoes_30_days_dic):\n",
    "    print(f\"Dia {i+1} - {cotacoes_30_days_dic[i]['bid']}\")"
   ]
  },
  {
   "cell_type": "markdown",
   "id": "3096e1a2",
   "metadata": {},
   "source": [
    "# Cotação do BITCOIN jan/20 até Dez/20"
   ]
  },
  {
   "cell_type": "code",
   "execution_count": 94,
   "id": "2fffb7a4",
   "metadata": {},
   "outputs": [
    {
     "data": {
      "image/png": "[encoded data removed]",
      "text/plain": [
       "<Figure size 1080x360 with 1 Axes>"
      ]
     },
     "metadata": {
      "needs_background": "light"
     },
     "output_type": "display_data"
    }
   ],
   "source": [
    "import requests\n",
    "import json\n",
    "import matplotlib.pyplot as plt\n",
    "\n",
    "cotacao_bitcoin = requests.get('https://economia.awesomeapi.com.br/json/daily/BTC-BRL/200?start_date=20200101&end_date=20201231')\n",
    "cotacao_dicBTC = cotacao_bitcoin.json()\n",
    "lista_valor = [float(item['bid']) for item in cotacao_dicBTC]\n",
    "lista_valor.reverse()\n",
    "\n",
    "plt.figure(figsize=(15, 5))\n",
    "plt.plot(lista_valor)\n",
    "plt.show()"
   ]
  }
 ],
 "metadata": {
  "kernelspec": {
   "display_name": "Python 3",
   "language": "python",
   "name": "python3"
  },
  "language_info": {
   "codemirror_mode": {
    "name": "ipython",
    "version": 3
   },
   "file_extension": ".py",
   "mimetype": "text/x-python",
   "name": "python",
   "nbconvert_exporter": "python",
   "pygments_lexer": "ipython3",
   "version": "3.8.8"
  }
 },
 "nbformat": 4,
 "nbformat_minor": 5
}

{
 "cells": [
  {
   "cell_type": "markdown",
   "id": "a7632df7",
   "metadata": {},
   "source": [
    "# API E PYTHON 2"
   ]
  },
  {
   "cell_type": "code",
   "execution_count": 10,
   "id": "2c963850",
   "metadata": {},
   "outputs": [],
   "source": [
    "from __future__ import print_function\n",
    "import os.path\n",
    "from googleapiclient.discovery import build\n",
    "from google_auth_oauthlib.flow import InstalledAppFlow\n",
    "from google.auth.transport.requests import Request\n",
    "from google.oauth2.credentials import Credentials\n",
    "\n",
    "# If modifying these scopes, delete the file token.json.\n",
    "SCOPES = ['https://www.googleapis.com/auth/spreadsheets']\n",
    "\n",
    "# The ID and range of a sample spreadsheet.\n",
    "SAMPLE_SPREADSHEET_ID = '1VNttCJgaxGNBSkNcmDLu8t4CjEaH9S6ZQSSzUDnCYZM'\n",
    "SAMPLE_RANGE_NAME = 'Página1!A1:C4'\n",
    "\n",
    "def main():\n",
    "    \"\"\"Shows basic usage of the Sheets API.\n",
    "    Prints values from a sample spreadsheet.\n",
    "    \"\"\"\n",
    "    creds = None\n",
    "    # The file token.json stores the user's access and refresh tokens, and is\n",
    "    # created automatically when the authorization flow completes for the first\n",
    "    # time.\n",
    "    if os.path.exists('token.json'):\n",
    "        creds = Credentials.from_authorized_user_file('token.json', SCOPES)\n",
    "    # If there are no (valid) credentials available, let the user log in.\n",
    "    if not creds or not creds.valid:\n",
    "        if creds and creds.expired and creds.refresh_token:\n",
    "            creds.refresh(Request())\n",
    "        else:\n",
    "            flow = InstalledAppFlow.from_client_secrets_file(\n",
    "                'credentials.json', SCOPES)\n",
    "            creds = flow.run_local_server(port=0)\n",
    "        # Save the credentials for the next run\n",
    "        with open('token.json', 'w') as token:\n",
    "            token.write(creds.to_json())\n",
    "\n",
    "    service = build('sheets', 'v4', credentials=creds)\n",
    "\n",
    "    values = [\n",
    "        [\n",
    "            'Douglas', 'Loja 2','Faturamento: R$ 100.000,00'\n",
    "        ],\n",
    "        [\n",
    "            'Clayton', 'Loja 3','Faturamento: R$ 500.000,00'\n",
    "        ],\n",
    "        \n",
    "    ]\n",
    "    body = {\n",
    "        'values': values\n",
    "    }\n",
    "\n",
    "    result = service.spreadsheets().values().update(\n",
    "        spreadsheetId=SAMPLE_SPREADSHEET_ID, range='Página2!A1',\n",
    "        valueInputOption=\"RAW\", body=body).execute()\n",
    "\n",
    "    values = result.get('values', [])\n",
    "\n",
    "if __name__ == '__main__':\n",
    "    main()"
   ]
  }
 ],
 "metadata": {
  "kernelspec": {
   "display_name": "Python 3",
   "language": "python",
   "name": "python3"
  },
  "language_info": {
   "codemirror_mode": {
    "name": "ipython",
    "version": 3
   },
   "file_extension": ".py",
   "mimetype": "text/x-python",
   "name": "python",
   "nbconvert_exporter": "python",
   "pygments_lexer": "ipython3",
   "version": "3.8.8"
  }
 },
 "nbformat": 4,
 "nbformat_minor": 5
}

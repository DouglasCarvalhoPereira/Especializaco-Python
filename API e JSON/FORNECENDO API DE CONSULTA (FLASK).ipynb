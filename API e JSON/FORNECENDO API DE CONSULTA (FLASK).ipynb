{
 "cells": [
  {
   "cell_type": "markdown",
   "id": "ee735942",
   "metadata": {},
   "source": [
    "# Usando Flask vamos forncer uma API para consulta de CEP\n",
    "\n",
    "Criei minha própria api e subi no https://replit.com/.\n",
    "\n",
    "- https://App-Testes-API.douglascarvalh4.repl.co/\n"
   ]
  },
  {
   "cell_type": "code",
   "execution_count": 5,
   "id": "5eabf41a",
   "metadata": {},
   "outputs": [
    {
     "name": "stdout",
     "output_type": "stream",
     "text": [
      "Digite o produto: Pos Graduacao\n",
      "{'Preco Base Reais': 6750.0}\n"
     ]
    }
   ],
   "source": [
    "import requests\n",
    "import json\n",
    "\n",
    "produto = input(\"Digite o produto: \")\n",
    "\n",
    "requisicao = requests.get(f'https://App-Testes-API.douglascarvalh4.repl.co/{produto}').json()\n",
    "print(requisicao)"
   ]
  }
 ],
 "metadata": {
  "kernelspec": {
   "display_name": "Python 3",
   "language": "python",
   "name": "python3"
  },
  "language_info": {
   "codemirror_mode": {
    "name": "ipython",
    "version": 3
   },
   "file_extension": ".py",
   "mimetype": "text/x-python",
   "name": "python",
   "nbconvert_exporter": "python",
   "pygments_lexer": "ipython3",
   "version": "3.8.8"
  }
 },
 "nbformat": 4,
 "nbformat_minor": 5
}

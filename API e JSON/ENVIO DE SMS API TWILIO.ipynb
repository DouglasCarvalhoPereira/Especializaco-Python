{
 "cells": [
  {
   "cell_type": "markdown",
   "id": "b4d525ca",
   "metadata": {},
   "source": [
    "# PYTHON com API de LOGIN e envio de SMS\n"
   ]
  },
  {
   "cell_type": "markdown",
   "id": "c1923df1",
   "metadata": {},
   "source": [
    "### Para envio de SMS precisaremos de LOGIN para usar a api\n",
    "\n",
    "Requisitos:\n",
    "\n",
    "1. ID da conta\n",
    "2. Token\n",
    "3. Número de Envio\n",
    "\n",
    "- API https://www.twilio.com/docs/libraries/python"
   ]
  },
  {
   "cell_type": "code",
   "execution_count": 1,
   "id": "e4bb83b0",
   "metadata": {},
   "outputs": [
    {
     "name": "stdout",
     "output_type": "stream",
     "text": [
      "SMe51d32065be941558289af8947b593ad\n"
     ]
    }
   ],
   "source": [
    "from twilio.rest import Client\n",
    "\n",
    "# SID daminha conta TWILIO em twilio.com/console\n",
    "account_sid = '***'\n",
    "\n",
    "#Token de autenticação da minha conta Twilio\n",
    "auth_token = '****'\n",
    "\n",
    "client = Client(account_sid, auth_token)\n",
    "\n",
    "message = client.messages.create(to='+***', from_='+12565675179', body='Testando envio de SMS via twilio.')\n",
    "\n",
    "print(message.sid)\n"
   ]
  }
 ],
 "metadata": {
  "kernelspec": {
   "display_name": "Python 3",
   "language": "python",
   "name": "python3"
  },
  "language_info": {
   "codemirror_mode": {
    "name": "ipython",
    "version": 3
   },
   "file_extension": ".py",
   "mimetype": "text/x-python",
   "name": "python",
   "nbconvert_exporter": "python",
   "pygments_lexer": "ipython3",
   "version": "3.8.8"
  }
 },
 "nbformat": 4,
 "nbformat_minor": 5
}

{
 "cells": [
  {
   "cell_type": "markdown",
   "id": "f689836f",
   "metadata": {},
   "source": [
    "# API COM FLESK\n",
    "\n",
    "https://flask.palletsprojects.com/en/2.0.x/\n",
    "\n",
    "Sempre usado #decorator e #função"
   ]
  },
  {
   "cell_type": "code",
   "execution_count": null,
   "id": "a4bdfc4f",
   "metadata": {},
   "outputs": [],
   "source": [
    "from flask import Flask\n",
    "import requests\n",
    "import json\n",
    "\n",
    "app = Flask(__name__)\n",
    "cnpj = int(input('Digite o CNPJ: '))\n",
    "\n",
    "@app.route(\"/\")\n",
    "def hello_world():\n",
    "#42485653000158\n",
    "    link = f'https://www.receitaws.com.br/v1/cnpj/{cnpj}'\n",
    "    requisicao = requests.get(link).json()\n",
    "    for date in requisicao.items():\n",
    "        title, situation = date\n",
    "    return print(date[0], ': ', date[1])\n",
    "\n",
    "app.run()"
   ]
  },
  {
   "cell_type": "code",
   "execution_count": null,
   "id": "147a9e72",
   "metadata": {},
   "outputs": [],
   "source": []
  }
 ],
 "metadata": {
  "kernelspec": {
   "display_name": "Python 3",
   "language": "python",
   "name": "python3"
  },
  "language_info": {
   "codemirror_mode": {
    "name": "ipython",
    "version": 3
   },
   "file_extension": ".py",
   "mimetype": "text/x-python",
   "name": "python",
   "nbconvert_exporter": "python",
   "pygments_lexer": "ipython3",
   "version": "3.8.8"
  }
 },
 "nbformat": 4,
 "nbformat_minor": 5
}

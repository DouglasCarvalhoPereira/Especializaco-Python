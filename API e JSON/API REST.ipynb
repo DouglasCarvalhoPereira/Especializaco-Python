{
 "cells": [
  {
   "cell_type": "markdown",
   "id": "4cb52aee",
   "metadata": {},
   "source": [
    "# REST API com PYTHON (CRUD)\n",
    "\n",
    "Uma api REST nada mais é do que um api que segue os parametros REST, a grande maioria das apis são REST. Um padrão que explica como é feita a requisição.\n",
    "\n",
    "Como eu peço, como posto algum conteúdo com a API? \n",
    "\n",
    "O REST diz: \n",
    "- GET -> Para pegar uma informação\n",
    "- POST -> Para riar uma informação\n",
    "- PUT(PATCH) -> Para atualizar uma informação\n",
    "- DELETE -> Para deletar uma informação\n",
    "\n",
    "## CRUD\n",
    "\n",
    "1. Create = POST\n",
    "2. Read = GET\n",
    "3. Update = PUT(PATCH)\n",
    "4. Delete = Delete\n",
    "\n",
    "Só tempos quatro tipos de quequisições que podem ser feitas, que são GET, POST, PUT, DELETE."
   ]
  },
  {
   "cell_type": "markdown",
   "id": "74f14fa0",
   "metadata": {},
   "source": [
    "#### Como as requisções são feitas na prática?\n",
    "\n",
    "1. import requests\n",
    "2. import json\n",
    "\n",
    "- requests.get(link) -> Para pegar uma informação da API\n",
    "    - Resposta um JSON(Dicionário com as respostas)\n",
    "    \n",
    "- requests.post(link) -> Para enviar uma informação para a API"
   ]
  },
  {
   "cell_type": "markdown",
   "id": "5ef282a2",
   "metadata": {},
   "source": [
    "### Consultando CEP de api gratuita\n",
    "\n",
    "cep.awesomeapi.com.br"
   ]
  },
  {
   "cell_type": "code",
   "execution_count": 11,
   "id": "169f417b",
   "metadata": {},
   "outputs": [
    {
     "name": "stdout",
     "output_type": "stream",
     "text": [
      "Digite o cep: 27250280\n",
      "{'cep': '27250280', 'address_type': 'Rua', 'address_name': 'Agapantos', 'address': 'Rua Agapantos', 'state': 'RJ', 'district': 'Água Limpa', 'lat': '-22.50695', 'lng': '-44.06983', 'city': 'Volta Redonda', 'city_ibge': '3306305', 'ddd': '24'}\n"
     ]
    }
   ],
   "source": [
    "import requests\n",
    "import json\n",
    "\n",
    "cep = int(input(\"Digite o cep: \"))\n",
    "\n",
    "link = f'https://cep.awesomeapi.com.br/int/{cep}'\n",
    "\n",
    "requisicao = requests.get(link).json()\n",
    "print(requisicao)"
   ]
  }
 ],
 "metadata": {
  "kernelspec": {
   "display_name": "Python 3",
   "language": "python",
   "name": "python3"
  },
  "language_info": {
   "codemirror_mode": {
    "name": "ipython",
    "version": 3
   },
   "file_extension": ".py",
   "mimetype": "text/x-python",
   "name": "python",
   "nbconvert_exporter": "python",
   "pygments_lexer": "ipython3",
   "version": "3.8.8"
  }
 },
 "nbformat": 4,
 "nbformat_minor": 5
}

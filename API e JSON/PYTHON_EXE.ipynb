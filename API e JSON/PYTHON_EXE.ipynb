{
 "cells": [
  {
   "cell_type": "markdown",
   "id": "75298e9b",
   "metadata": {},
   "source": [
    "# Python para exe com códigos simples\n",
    "\n",
    "### Códigos que não interagem com outros arquivos ou ferramentas do computador\n",
    "\n",
    "Usaremos abiblioteca pyinstaller\n",
    "\n",
    "- Passo 1 - Instalar o pyinstaller\n",
    "- Passo 2 - Executar o pyinstaller\n",
    "\n",
    "\n",
    "pyinstaller -w nome_do_arquivo.py"
   ]
  },
  {
   "cell_type": "code",
   "execution_count": null,
   "id": "31629cd8",
   "metadata": {},
   "outputs": [],
   "source": [
    "from twilio.rest import Client\n",
    "\n",
    "# SID daminha conta TWILIO em twilio.com/console\n",
    "account_sid = '**************************8'\n",
    "\n",
    "#Token de autenticação da minha conta Twilio\n",
    "auth_token = '********************************8'\n",
    "\n",
    "client = Client(account_sid, auth_token)\n",
    "\n",
    "message = client.messages.create(to='+*********', from_='+12565675179', body='Testando envio de SMS via twilio.')\n",
    "\n",
    "print(message.sid)"
   ]
  },
  {
   "cell_type": "code",
   "execution_count": null,
   "id": "eac21679",
   "metadata": {},
   "outputs": [],
   "source": []
  }
 ],
 "metadata": {
  "kernelspec": {
   "display_name": "Python 3",
   "language": "python",
   "name": "python3"
  },
  "language_info": {
   "codemirror_mode": {
    "name": "ipython",
    "version": 3
   },
   "file_extension": ".py",
   "mimetype": "text/x-python",
   "name": "python",
   "nbconvert_exporter": "python",
   "pygments_lexer": "ipython3",
   "version": "3.8.8"
  }
 },
 "nbformat": 4,
 "nbformat_minor": 5
}

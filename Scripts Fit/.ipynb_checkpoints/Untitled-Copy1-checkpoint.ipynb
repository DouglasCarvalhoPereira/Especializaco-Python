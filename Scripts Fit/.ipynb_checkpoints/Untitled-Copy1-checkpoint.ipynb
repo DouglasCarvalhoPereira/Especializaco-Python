{
 "cells": [
  {
   "cell_type": "code",
   "execution_count": 207,
   "id": "ab6c0200",
   "metadata": {},
   "outputs": [
    {
     "data": {
      "text/plain": [
       "<bound method NDFrame.head of      Termo de Pesquisa  Total de pesquisas\n",
       "0            KIT SUPER                   8\n",
       "1                  LOW                   4\n",
       "2    CREME DE AMENDOIM                   3\n",
       "3                  KIT                   3\n",
       "4                PASTA                   3\n",
       "..                 ...                 ...\n",
       "156              TORTA                   1\n",
       "157                 UM                   1\n",
       "158             VENDEU                   1\n",
       "159              VENDI                   1\n",
       "160        ZERO GLUTEM                   1\n",
       "\n",
       "[161 rows x 2 columns]>"
      ]
     },
     "metadata": {},
     "output_type": "display_data"
    }
   ],
   "source": [
    "import pandas as pd\n",
    "#encoding='latin1', encoding='ISO-8859-1', encoding='utf-8' ou então encoding='cp1252'\n",
    "\n",
    "words_df = pd.read_csv('words.csv', sep=',')\n",
    "words_df = words_df.drop(['Visualizações de página dos resultados/Pesquisa','Porcentagem de saídas de pesquisa','Porcentagem de refinamentos de pesquisa','Tempo depois da pesquisa','Média de páginas por visita','Unnamed: 7','Unnamed: 8','Unnamed: 9','Unnamed: 10'], axis=1)\n",
    "words_df = words_df.rename(columns={'Total de pesquisas exclusivas': 'Total de pesquisas'})\n",
    "words_df['Termo de Pesquisa'] = words_df['Termo de Pesquisa'].str.upper()\n",
    "words_df['Termo de Pesquisa'] = words_df['Termo de Pesquisa'].str.strip()\n",
    "words_df['Termo de Pesquisa'].value_counts().sum()\n",
    "pd.set_option('display.max_columns', None)\n",
    "\n",
    "\n",
    "#cont = [lambda x: x*x for x in range(10)]\n",
    "display(words_df.head)"
   ]
  },
  {
   "cell_type": "code",
   "execution_count": null,
   "id": "61b44e0d",
   "metadata": {},
   "outputs": [],
   "source": []
  }
 ],
 "metadata": {
  "kernelspec": {
   "display_name": "Python 3",
   "language": "python",
   "name": "python3"
  },
  "language_info": {
   "codemirror_mode": {
    "name": "ipython",
    "version": 3
   },
   "file_extension": ".py",
   "mimetype": "text/x-python",
   "name": "python",
   "nbconvert_exporter": "python",
   "pygments_lexer": "ipython3",
   "version": "3.8.8"
  }
 },
 "nbformat": 4,
 "nbformat_minor": 5
}

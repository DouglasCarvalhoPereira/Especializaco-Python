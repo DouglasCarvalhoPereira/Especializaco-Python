{
 "cells": [
  {
   "cell_type": "markdown",
   "id": "c523c274",
   "metadata": {},
   "source": [
    "# Transformando Códigos em Python para Executáveis.\n",
    "\n",
    "## - CRIAR VIRTUAL ENV"
   ]
  },
  {
   "cell_type": "markdown",
   "id": "fe24a77e",
   "metadata": {},
   "source": [
    "## Objetivos:\n",
    "\n",
    "Tornar os arquivos executáveis, podendo eles serem abertos e executados em qualquer computador, mesmo que ele não tenha Python instalado.\n",
    "\n",
    "Para isso iremos transforma-lo em um arquivo .exe"
   ]
  },
  {
   "cell_type": "markdown",
   "id": "f440508b",
   "metadata": {},
   "source": [
    "### Cuidados:\n",
    "\n",
    "Para códigos simples, basta fazermos a conversão de python para executável, mas em muitos códigos, temos que pensar se precisamos fazer alguma adaptação.\n",
    "\n",
    "\n",
    "    Ex: Se o nosso código abre algum arquivo do nosso computador, temos que tornar essa ação de abrir o arquivo algo que funcione em qualquer computador.\n",
    "    \n",
    "   \n",
    "Sempre precisamos olharo código e pensar ele funcionaria em qualquer computador? Tem alguma coida nele que impede de funcionar no computador de outra pessoa? Se necessário, fazemos as adaptações. Vamos aprender como.   \n",
    "   "
   ]
  },
  {
   "cell_type": "markdown",
   "id": "d05814ed",
   "metadata": {},
   "source": [
    "## Funcionamento:\n",
    "\n",
    "- Passo 1 - Seu código deve estar funcionando sem errs no Jupyter\n",
    "- Passo 2 - Transformae o código Jupyter em scripts python padrão (exxtensão.py). Seu código deve estar funcionando nesse formato também.\n",
    "- Passo 3 - Usar uma biblioteca de conversão (pyinstaller ou auto-py-to-exe) para transformar o código em executável.\n",
    "- Passo 4 - Testar e adaptae o que for necessário."
   ]
  },
  {
   "cell_type": "code",
   "execution_count": 1,
   "id": "acafd9ee",
   "metadata": {},
   "outputs": [
    {
     "name": "stdout",
     "output_type": "stream",
     "text": [
      "SM2bc2c2c7e4f9415c8781402b0ef09380\n"
     ]
    }
   ],
   "source": [
    "from twilio.rest import Client\n",
    "\n",
    "# SID daminha conta TWILIO em twilio.com/console\n",
    "account_sid = 'ACdfdcabb817fabeca3216cc0e26dd8c92'\n",
    "\n",
    "#Token de autenticação da minha conta Twilio\n",
    "auth_token = 'a3d505b7d3af090c2130c5942687211b'\n",
    "\n",
    "client = Client(account_sid, auth_token)\n",
    "\n",
    "message = client.messages.create(to='+5524988219104', from_='+12565675179', body='Testando envio de SMS via twilio.')\n",
    "\n",
    "print(message.sid)"
   ]
  },
  {
   "cell_type": "markdown",
   "id": "8278c0c1",
   "metadata": {},
   "source": [
    "# Atenção no resultado\n",
    "\n",
    "\n",
    "Repare que o programa final vai ficar extremamente pesado.\n",
    "\n",
    "Isso por que o pyinstaller vai incluir todas as bibliotecas que temos instaladas no programa final, para garantir que ele vai funcionar.\n",
    "\n",
    "\n",
    "Para evitar isso, precisaremos criar um ambiente virtual exclusivo para esse programa, vamos ver na prática."
   ]
  }
 ],
 "metadata": {
  "kernelspec": {
   "display_name": "Python 3",
   "language": "python",
   "name": "python3"
  },
  "language_info": {
   "codemirror_mode": {
    "name": "ipython",
    "version": 3
   },
   "file_extension": ".py",
   "mimetype": "text/x-python",
   "name": "python",
   "nbconvert_exporter": "python",
   "pygments_lexer": "ipython3",
   "version": "3.8.8"
  }
 },
 "nbformat": 4,
 "nbformat_minor": 5
}

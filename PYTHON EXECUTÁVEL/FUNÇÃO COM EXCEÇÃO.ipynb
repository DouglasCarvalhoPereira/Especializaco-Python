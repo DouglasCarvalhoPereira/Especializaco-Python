{
 "cells": [
  {
   "cell_type": "markdown",
   "id": "14583448",
   "metadata": {},
   "source": [
    "# Exceções e Erros em Funções"
   ]
  },
  {
   "cell_type": "raw",
   "id": "e0020f2e",
   "metadata": {},
   "source": [
    "try:\n",
    "    o que eu vou tentar executar\n",
    "except:\n",
    "    o que fazer caso de erro"
   ]
  },
  {
   "cell_type": "code",
   "execution_count": 26,
   "id": "e877d4be",
   "metadata": {},
   "outputs": [],
   "source": [
    "def descobrir_servidor(email):\n",
    "    \n",
    "    try:\n",
    "        #Poderia isolar o erro apenas para alinha posic_ao e fazer um else rodando o código\n",
    "        posicao_a = email.index('@')\n",
    "        servidor = email[posicao_a:]\n",
    "        if 'gmail' in servidor:\n",
    "            return 'gmail'\n",
    "        elif 'yahoo' in servidor:\n",
    "            return 'yahoo'\n",
    "        elif 'hotmail' in servidor:\n",
    "            return 'hotmail'\n",
    "        elif 'uol' in servidor:\n",
    "            return 'uol'\n",
    "        else:\n",
    "            \"Servidor não localizado.\"\n",
    "    except:\n",
    "        raise Exception(\"Email inválido, digite novamente!\")"
   ]
  },
  {
   "cell_type": "code",
   "execution_count": null,
   "id": "392ecbd1",
   "metadata": {
    "scrolled": true
   },
   "outputs": [],
   "source": [
    "email = input('Digite o email: ')\n",
    "print(descobrir_servidor(email))"
   ]
  },
  {
   "cell_type": "raw",
   "id": "48a719d7",
   "metadata": {},
   "source": [
    "try:\n",
    "    Tentar fazer isso\n",
    "except ErrEspecífico:\n",
    "    deu esse erro aqui que era esperado.\n",
    "except ErroEspecífico2:\n",
    "    segundo erro\n",
    "else:\n",
    "    #Só funciona se o TRY funcionar.\n",
    "    caso não de o erro esperado, rode isso.\n",
    "finally:\n",
    "    independente do que acontecer, faça isso."
   ]
  }
 ],
 "metadata": {
  "kernelspec": {
   "display_name": "Python 3",
   "language": "python",
   "name": "python3"
  },
  "language_info": {
   "codemirror_mode": {
    "name": "ipython",
    "version": 3
   },
   "file_extension": ".py",
   "mimetype": "text/x-python",
   "name": "python",
   "nbconvert_exporter": "python",
   "pygments_lexer": "ipython3",
   "version": "3.8.8"
  }
 },
 "nbformat": 4,
 "nbformat_minor": 5
}
